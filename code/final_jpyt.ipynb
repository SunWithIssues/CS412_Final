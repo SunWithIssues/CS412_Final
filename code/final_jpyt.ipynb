{
 "cells": [
  {
   "cell_type": "markdown",
   "id": "70f6044e",
   "metadata": {},
   "source": [
    "# Final Project: Researching Catalogued Work in MoMA\n",
    "\n",
    "## Introduction\n",
    "Representation of art is known to be very problematic in terms ...\n",
    "\n",
    "In this study, we look to see if there is any relation between if the artwork is catalogued and the other attributes which it might have. Cataloguing artworks is extremely important as it not only showcases the importance which the musuem might place on the artwork, but it also essential for risk management, research and exhibition development. \n",
    "\n",
    "  https://mgnsw.org.au/sector/resources/online-resources/collection-management/cataloguing/\n",
    "\n",
    "## Data: ...\n"
   ]
  },
  {
   "cell_type": "markdown",
   "id": "5e22169e",
   "metadata": {},
   "source": [
    "### Data Preparation"
   ]
  },
  {
   "cell_type": "markdown",
   "id": "c0ce2593",
   "metadata": {},
   "source": [
    "We start off by reading the data."
   ]
  },
  {
   "cell_type": "code",
   "execution_count": 1,
   "id": "d0b1e3f5",
   "metadata": {},
   "outputs": [],
   "source": [
    "## Importing & reading data\n",
    "import pandas as pd\n",
    "import random\n",
    "import re"
   ]
  },
  {
   "cell_type": "code",
   "execution_count": 2,
   "id": "96919939",
   "metadata": {},
   "outputs": [],
   "source": [
    "df = pd.read_csv(\"./collection/Artworks.csv\")"
   ]
  },
  {
   "cell_type": "markdown",
   "id": "b3314c5d",
   "metadata": {},
   "source": [
    "We clean the data in two main ways, by dropping unnecessary attributes and replacing NaN values."
   ]
  },
  {
   "cell_type": "code",
   "execution_count": 3,
   "id": "91807ffa",
   "metadata": {},
   "outputs": [],
   "source": [
    "## Cleaning the data by droppig unnecessary attributes\n",
    "\n",
    "# These attributes give the same info: 'Artist' & 'ConstituentID'\n",
    "#  so I plan on droping 'Artist'.\n",
    "df.drop(\"Artist\", axis=1, inplace=True)\n",
    "\n",
    "# These attributes give the same info: \"ObjectID\" & \"Title\"\n",
    "#  so I plan on droping \"Title\"\n",
    "df.drop(\"Title\", axis=1, inplace=True)\n",
    "\n",
    "# Measurement attributes give the same info as \"Dimensions\"\n",
    "#  so I plan on droping \"Dimensions\"\n",
    "df.drop(\"Dimensions\", axis=1, inplace=True)\n",
    "\n",
    "# Also droping 'URL' & 'ThumbnailURL' as they don't give any real info.\n",
    "#  These are only filled out for catalogued artworks.\n",
    "df.drop('URL', axis=1, inplace=True)\n",
    "df.drop('ThumbnailURL', axis=1, inplace=True)\n",
    "\n",
    "# \"AccessionNumber\" refers to the barely visible coded number attached the artwork in \n",
    "#  real life. This is used to link the displayed or archived work with it proper \n",
    "#  identification and knowledge for the humans working at the museum.\n",
    "   # https://www.okmuseums.org/sites/oma2/uploads/documents/Technical_Bulletins/Technical_Bulletin_42_-_Applying_Accession_Numbers_Part_I.pdf\n",
    "\n",
    "df.drop(\"AccessionNumber\", axis=1, inplace=True)\n",
    "\n",
    "\n",
    "# We are dropping these attributes as its time expensive to look at these. (However, in time we\n",
    "#   might go back to look at their affects).\n",
    "\n",
    "df.drop('ArtistBio', axis=1, inplace=True)\n",
    "df.drop('Nationality', axis=1, inplace=True)\n",
    "df.drop('BeginDate', axis=1, inplace=True)\n",
    "df.drop('EndDate', axis=1, inplace=True)"
   ]
  },
  {
   "cell_type": "code",
   "execution_count": 4,
   "id": "dedc56f7",
   "metadata": {},
   "outputs": [
    {
     "data": {
      "text/plain": [
       "ConstituentID           1283\n",
       "Gender                  1283\n",
       "Date                    2202\n",
       "Medium                  9701\n",
       "CreditLine              2437\n",
       "Classification             0\n",
       "Department                 0\n",
       "DateAcquired            7125\n",
       "Cataloged                  0\n",
       "ObjectID                   0\n",
       "Circumference (cm)    138141\n",
       "Depth (cm)            124312\n",
       "Diameter (cm)         136689\n",
       "Height (cm)            17796\n",
       "Length (cm)           137409\n",
       "Weight (kg)           137861\n",
       "Width (cm)             18717\n",
       "Seat Height (cm)      138151\n",
       "Duration (sec.)       136011\n",
       "dtype: int64"
      ]
     },
     "execution_count": 4,
     "metadata": {},
     "output_type": "execute_result"
    }
   ],
   "source": [
    "df.isna().sum()"
   ]
  },
  {
   "cell_type": "code",
   "execution_count": 5,
   "id": "9d821cbe",
   "metadata": {},
   "outputs": [],
   "source": [
    "# Measurement attributes that are NaN will now be zero (ie 'Circumference (cm)', \n",
    "#  'Depth (cm)', 'Diameter (cm)', 'Height (cm)', 'Length (cm)', 'Weight (kg)', 'Width (cm)', \n",
    "#  'Seat Height (cm)', 'Duration (sec.)' )\n",
    "df['Circumference (cm)'].fillna(0, inplace=True)\n",
    "df['Depth (cm)'].fillna(0, inplace=True)\n",
    "df['Diameter (cm)'].fillna(0, inplace=True)\n",
    "df['Height (cm)'].fillna(0, inplace=True)\n",
    "df['Length (cm)'].fillna(0, inplace=True)\n",
    "df['Weight (kg)'].fillna(0, inplace=True)\n",
    "df['Width (cm)'].fillna(0, inplace=True)\n",
    "df['Seat Height (cm)'].fillna(0, inplace=True)\n",
    "df['Duration (sec.)'].fillna(0, inplace=True)\n",
    "\n",
    "# Unknown artist will have a negative id number\n",
    "df[\"ConstituentID\"].fillna( \"-1\", inplace=True)\n",
    "\n",
    "df[\"Cataloged\"].replace(\"Y\", 1, inplace=True)\n",
    "df[\"Cataloged\"].replace(\"N\", 0, inplace=True)\n",
    "\n",
    "# Discrete values with NaN will now be a string \"UNKNOWN\"\n",
    "df['Medium'].replace(pd.NA, \"UNKNOWN\", inplace=True)\n",
    "df['Date'].replace(pd.NA, \"UNKNOWN\", inplace=True)\n",
    "df[\"Gender\"].replace(pd.NA, \"UNKNOWN\", inplace=True)\n",
    "df[\"CreditLine\"].replace(pd.NA, \"UNKNOWN\", inplace=True)\n",
    "\n",
    "df[\"DateAcquired\"].replace(pd.NA, \"0001-01-01\", inplace=True)\n",
    "\n",
    "df['Medium'] = df['Medium'].str.lower()"
   ]
  },
  {
   "cell_type": "markdown",
   "id": "66d35853",
   "metadata": {},
   "source": [
    "We change date attribute to be a period object, and then an int."
   ]
  },
  {
   "cell_type": "code",
   "execution_count": 6,
   "id": "25e29603",
   "metadata": {},
   "outputs": [],
   "source": [
    "# This is now a period obj\n",
    "df[\"DateAcquired\"] =  pd.PeriodIndex(df[\"DateAcquired\"], freq=\"D\")\n",
    "df[\"DateAcquired\"] = df[\"DateAcquired\"].astype(int)"
   ]
  },
  {
   "cell_type": "markdown",
   "id": "9a9b8b58",
   "metadata": {},
   "source": [
    "(At this point we jump to the EDAs, before changing anymore features.) From here on the values that need to be changed are discrete, so we deal with them on a case by case basis."
   ]
  },
  {
   "cell_type": "code",
   "execution_count": 7,
   "id": "af4a3cb8",
   "metadata": {},
   "outputs": [],
   "source": [
    "# Changing string attributes to numbers as well as giving them their own csv\n",
    "\n",
    "departments = {\"DepartmentName\": [], \"UID\": []}\n",
    "ls = df[\"Department\"].unique()\n",
    "for idx, x in enumerate(ls):\n",
    "    departments[\"DepartmentName\"].append(x)\n",
    "    departments[\"UID\"].append(idx)\n",
    "    df[\"Department\"].replace(x, idx, inplace=True)\n",
    "\n",
    "classifications = {\"ClassificationName\": [], \"UID\": []}\n",
    "ls = df[\"Classification\"].unique()\n",
    "for idx, x in enumerate(ls):\n",
    "    classifications[\"ClassificationName\"].append(x)\n",
    "    classifications[\"UID\"].append(idx)\n",
    "    df[\"Classification\"].replace(x, idx, inplace=True)\n",
    "\n",
    "creditlines = {\"CreditLineDescription\": [], \"UID\": []}\n",
    "ls = df[\"CreditLine\"].unique()\n",
    "for idx, x in enumerate(ls):\n",
    "    creditlines[\"CreditLineDescription\"].append(x)\n",
    "    creditlines[\"UID\"].append(idx)\n",
    "    df[\"CreditLine\"].replace(x, idx, inplace=True)"
   ]
  },
  {
   "cell_type": "code",
   "execution_count": 8,
   "id": "e64a0db1",
   "metadata": {},
   "outputs": [],
   "source": [
    "# departments = pd.DataFrame(departments)\n",
    "# departments.to_csv(\"departments.csv\", sep=',')\n",
    "\n",
    "# classifications = pd.DataFrame(classifications)\n",
    "# classifications.to_csv(\"classifications.csv\", sep=',')\n",
    "\n",
    "# creditlines = pd.DataFrame(creditlines)\n",
    "# creditlines.to_csv(\"creditlines.csv\", sep=',')"
   ]
  },
  {
   "cell_type": "markdown",
   "id": "45b71b94",
   "metadata": {},
   "source": [
    "At this point, we are creating medium types based on characteristics of the top 60 medium types. \n",
    "\n",
    "This is by taking apart important word phrases to make generalizations that fit more cases. For example, \"Gelatin silver print\" and \"Albumen silver print\" are both prints, and both use silver print process (a photography process). However, they use different soluble solution for the print process (ie gelatin or albumen). Therefore, we can make four medium categories from this problem: \"print\", \"silver print\", \"gelatin\", \"albumen\".\n",
    "\n",
    "We also add two types that aren't shown within the top 60: cardboard, and paint. As they are known to be somewhat normal within fine art presentations."
   ]
  },
  {
   "cell_type": "code",
   "execution_count": 9,
   "id": "b33b66e3",
   "metadata": {},
   "outputs": [
    {
     "data": {
      "text/plain": [
       "gelatin silver print                                                                              16215\n",
       "unknown                                                                                            9706\n",
       "lithograph                                                                                         7822\n",
       "albumen silver print                                                                               4874\n",
       "pencil on paper                                                                                    1795\n",
       "chromogenic color print                                                                            1722\n",
       "letterpress                                                                                        1681\n",
       "etching                                                                                            1630\n",
       "ink on paper                                                                                       1460\n",
       "lithograph, printed in color                                                                       1435\n",
       "pencil on tracing paper                                                                            1268\n",
       "offset lithograph                                                                                  1126\n",
       "video (color, sound)                                                                               1102\n",
       "oil on canvas                                                                                      1063\n",
       "drypoint                                                                                           1058\n",
       "lithograph, printed in black                                                                        991\n",
       "woodcut                                                                                             959\n",
       "gelatin silver printing-out-paper print                                                             909\n",
       "screenprint                                                                                         889\n",
       "poster                                                                                              678\n",
       "etching, printed in black                                                                           604\n",
       "pigmented inkjet print                                                                              585\n",
       "photogravure                                                                                        522\n",
       "wood engraving, printed in black                                                                    521\n",
       "etching and aquatint                                                                                503\n",
       "platinum print                                                                                      486\n",
       "collotype                                                                                           471\n",
       "drypoint, with hand additions                                                                       470\n",
       "matte albumen silver print                                                                          463\n",
       "colored pencil, pencil, and ballpoint pen on board                                                  454\n",
       "woodcut, printed in black                                                                           438\n",
       "silkscreen                                                                                          415\n",
       "lithograph, offset printed                                                                          330\n",
       "woodcut, printed in color                                                                           329\n",
       "watercolor on paper                                                                                 329\n",
       "one from an illustrated book with 329 woodcuts                                                      324\n",
       "wood engraving from an illustrated book with 323 wood engravings and one etching and engraving      323\n",
       "photolithograph                                                                                     322\n",
       "video (black and white, sound)                                                                      311\n",
       "screenprint, printed in color                                                                       308\n",
       "one from a portfolio of ten lithographs                                                             297\n",
       "one from a portfolio of eighteen lithographs                                                        283\n",
       "linoleum cut                                                                                        272\n",
       "dye transfer print                                                                                  268\n",
       "one from a portfolio of 264 color xeroxes                                                           264\n",
       "engraving                                                                                           258\n",
       "gouache on paper                                                                                    258\n",
       "gelatin silver print, printed 1965                                                                  257\n",
       "albumen silver print from a glass negative                                                          239\n",
       "pencil and colored pencil on tracing paper                                                          232\n",
       "charcoal on paper                                                                                   231\n",
       "aquatint                                                                                            231\n",
       "super 8mm film transferred to video (color, silent)                                                 219\n",
       "watercolor and pencil on paper                                                                      217\n",
       "print                                                                                               207\n",
       "etching and drypoint                                                                                202\n",
       "bronze                                                                                              197\n",
       "pencil and colored pencil on paper                                                                  195\n",
       "artist's book                                                                                       195\n",
       "drawing                                                                                             192\n",
       "Name: Medium, dtype: int64"
      ]
     },
     "execution_count": 9,
     "metadata": {},
     "output_type": "execute_result"
    }
   ],
   "source": [
    "df[\"Medium\"].value_counts().head(60)"
   ]
  },
  {
   "cell_type": "code",
   "execution_count": 10,
   "id": "07148e57",
   "metadata": {},
   "outputs": [],
   "source": [
    "mediums = {\"ink\", \"lithograph\", \"engraving\", \"gelatin\", \"albumen\", \"silver print\", \"pencil\", \n",
    "          \"chromogenic\", \"color print\", \"paper\", \"letterpress\", \"tracing paper\", \"offset\", \n",
    "          \"video\", \"oil\", \"canvas\", \"drypoint\", \"woodcut\", \"screenprint\", \n",
    "          \"poster\", \"etching\", \"inkjet print\", \"pigmented\", \"photogravure\", \"black\", \"color\", \n",
    "          \"wood\", \"aquatint\", \"platinum print\", \"collotype\", \"matte\", \"ballpoint pen\", \"board\", \n",
    "          \"watercolor\", \"illustrated book\", \"photolithograph\", \"white\", \"sound\", \"portfolio\", \n",
    "          \"linoleum cut\", \"dye transfer print\", \"gouache\", \"glass negative\", \"tracing paper\", \n",
    "           \"colored pencil\", \"cardboard\", \"silkscreen\", \"silent\", \"charcoal\", \"paint\", \"bronze\", \n",
    "           \"drypoint\"}"
   ]
  },
  {
   "cell_type": "code",
   "execution_count": 11,
   "id": "37e9a8cb",
   "metadata": {},
   "outputs": [],
   "source": [
    "for m in mediums:\n",
    "    df[m] = 0\n",
    "    df.loc[df['Medium'].str.contains(m),m] = 1"
   ]
  },
  {
   "cell_type": "markdown",
   "id": "b96acb61",
   "metadata": {},
   "source": [
    "From this point, we take the \"Date\" attribute, and create two more attributes: \"TimeStarted\" and \"TimeFinished\". \n",
    "\n",
    "\"Date\" is a string attribute that holds the years which the art piece was being worked on.. Normally, the attribute's elements are displayed as either XXXX-XX or XXXX. Though, there are other valid years which can be extracted from long string phrases, but we avoid these for time being. Therefore, the dataframe shrinks where years can not be easily extracted."
   ]
  },
  {
   "cell_type": "code",
   "execution_count": 12,
   "id": "906d7c53",
   "metadata": {},
   "outputs": [],
   "source": [
    "# Reading all unique dates and changing the two new columns based on that info.\n",
    "\n",
    "startAttri = \"TimeStarted\"\n",
    "finishAttri = \"TimeFinished\"\n",
    "\n",
    "df[startAttri] = \"-\"\n",
    "df[finishAttri] = \"-\"\n",
    "ls = df[\"Date\"].unique()\n",
    "for s in ls:\n",
    "    try:\n",
    "        d = int(s)\n",
    "        df.loc[df[\"Date\"].str.contains(s),startAttri] = d\n",
    "        df.loc[df[\"Date\"].str.contains(s), finishAttri] = d\n",
    "    except:\n",
    "        l = s.split('-')\n",
    "        if len(l) == 2 and len(l[1]) == 2 and len(l[0]) == 4:\n",
    "            start = l[0]\n",
    "            finish = l[0][:2]+l[1]\n",
    "            df.loc[df[\"Date\"].str.contains(s), startAttri] = int(start)\n",
    "            df.loc[df[\"Date\"].str.contains(s), finishAttri] = int(finish)"
   ]
  },
  {
   "cell_type": "code",
   "execution_count": 13,
   "id": "f41c8592",
   "metadata": {},
   "outputs": [],
   "source": [
    "# Removing rows where dates could not be extracted.\n",
    "df = df.loc[df[startAttri] != \"-\"]\n",
    "df = df.loc[df[finishAttri] != \"-\"]"
   ]
  },
  {
   "cell_type": "code",
   "execution_count": 14,
   "id": "0687e813",
   "metadata": {},
   "outputs": [],
   "source": [
    "# Finding the number of artist involved and the number of that gender (male, female, neither). \n",
    "#  Taking the first artist listed\n",
    "\n",
    "df[\"NumMales\"] = df[\"Gender\"].str.count('Male')\n",
    "df[\"NumFemales\"] = df[\"Gender\"].str.count('Female')\n",
    "df[\"NumArtists\"] = df[\"ConstituentID\"].str.count(',') + 1\n",
    "df[\"FirstArtistListed\"] = df[\"ConstituentID\"].str.extract('(^\\d*)', expand=False).str.strip()\n",
    "\n",
    "df[\"NumArtists\"].fillna( -1, inplace=True)\n",
    "df[\"FirstArtistListed\"].fillna( -1, inplace=True)\n",
    "df[\"FirstArtistListed\"] = pd.to_numeric( df[\"FirstArtistListed\"])\n",
    "df[\"FirstArtistListed\"].fillna( -1, inplace=True)"
   ]
  },
  {
   "cell_type": "code",
   "execution_count": 15,
   "id": "66e97af8",
   "metadata": {},
   "outputs": [],
   "source": [
    "df.drop(\"ConstituentID\", axis=1, inplace=True)\n",
    "df.drop(\"Date\", axis=1, inplace=True)\n",
    "df.drop(\"Gender\", axis=1, inplace=True)\n",
    "df.drop(\"Medium\", axis=1, inplace=True)\n",
    "df.drop(\"ObjectID\", axis=1, inplace=True)"
   ]
  },
  {
   "cell_type": "code",
   "execution_count": 16,
   "id": "07aa582b",
   "metadata": {},
   "outputs": [
    {
     "data": {
      "text/plain": [
       "CreditLine           0\n",
       "Classification       0\n",
       "Department           0\n",
       "DateAcquired         0\n",
       "Cataloged            0\n",
       "                    ..\n",
       "TimeFinished         0\n",
       "NumMales             0\n",
       "NumFemales           0\n",
       "NumArtists           0\n",
       "FirstArtistListed    0\n",
       "Length: 70, dtype: int64"
      ]
     },
     "execution_count": 16,
     "metadata": {},
     "output_type": "execute_result"
    }
   ],
   "source": [
    "df.isna().sum()"
   ]
  },
  {
   "cell_type": "code",
   "execution_count": 17,
   "id": "a03fcd4e",
   "metadata": {},
   "outputs": [
    {
     "name": "stdout",
     "output_type": "stream",
     "text": [
      "Index(['CreditLine', 'Classification', 'Department', 'DateAcquired',\n",
      "       'Cataloged', 'Circumference (cm)', 'Depth (cm)', 'Diameter (cm)',\n",
      "       'Height (cm)', 'Length (cm)', 'Weight (kg)', 'Width (cm)',\n",
      "       'Seat Height (cm)', 'Duration (sec.)', 'silkscreen', 'white',\n",
      "       'platinum print', 'wood', 'bronze', 'screenprint', 'paint', 'cardboard',\n",
      "       'collotype', 'woodcut', 'video', 'letterpress', 'pencil', 'color',\n",
      "       'color print', 'chromogenic', 'ink', 'board', 'albumen', 'silent',\n",
      "       'watercolor', 'poster', 'oil', 'illustrated book', 'portfolio',\n",
      "       'pigmented', 'tracing paper', 'sound', 'canvas', 'inkjet print',\n",
      "       'charcoal', 'linoleum cut', 'photogravure', 'lithograph', 'matte',\n",
      "       'glass negative', 'etching', 'aquatint', 'dye transfer print',\n",
      "       'drypoint', 'engraving', 'ballpoint pen', 'photolithograph', 'paper',\n",
      "       'offset', 'silver print', 'gouache', 'black', 'gelatin',\n",
      "       'colored pencil', 'TimeStarted', 'TimeFinished', 'NumMales',\n",
      "       'NumFemales', 'NumArtists', 'FirstArtistListed'],\n",
      "      dtype='object')\n"
     ]
    },
    {
     "data": {
      "text/html": [
       "<div>\n",
       "<style scoped>\n",
       "    .dataframe tbody tr th:only-of-type {\n",
       "        vertical-align: middle;\n",
       "    }\n",
       "\n",
       "    .dataframe tbody tr th {\n",
       "        vertical-align: top;\n",
       "    }\n",
       "\n",
       "    .dataframe thead th {\n",
       "        text-align: right;\n",
       "    }\n",
       "</style>\n",
       "<table border=\"1\" class=\"dataframe\">\n",
       "  <thead>\n",
       "    <tr style=\"text-align: right;\">\n",
       "      <th></th>\n",
       "      <th>CreditLine</th>\n",
       "      <th>Classification</th>\n",
       "      <th>Department</th>\n",
       "      <th>DateAcquired</th>\n",
       "      <th>Cataloged</th>\n",
       "      <th>Circumference (cm)</th>\n",
       "      <th>Depth (cm)</th>\n",
       "      <th>Diameter (cm)</th>\n",
       "      <th>Height (cm)</th>\n",
       "      <th>Length (cm)</th>\n",
       "      <th>...</th>\n",
       "      <th>gouache</th>\n",
       "      <th>black</th>\n",
       "      <th>gelatin</th>\n",
       "      <th>colored pencil</th>\n",
       "      <th>TimeStarted</th>\n",
       "      <th>TimeFinished</th>\n",
       "      <th>NumMales</th>\n",
       "      <th>NumFemales</th>\n",
       "      <th>NumArtists</th>\n",
       "      <th>FirstArtistListed</th>\n",
       "    </tr>\n",
       "  </thead>\n",
       "  <tbody>\n",
       "    <tr>\n",
       "      <th>0</th>\n",
       "      <td>0</td>\n",
       "      <td>0</td>\n",
       "      <td>0</td>\n",
       "      <td>9595</td>\n",
       "      <td>1</td>\n",
       "      <td>0.0</td>\n",
       "      <td>0.0</td>\n",
       "      <td>0.0</td>\n",
       "      <td>48.6000</td>\n",
       "      <td>0.0</td>\n",
       "      <td>...</td>\n",
       "      <td>0</td>\n",
       "      <td>0</td>\n",
       "      <td>0</td>\n",
       "      <td>0</td>\n",
       "      <td>1896</td>\n",
       "      <td>1896</td>\n",
       "      <td>1</td>\n",
       "      <td>0</td>\n",
       "      <td>1</td>\n",
       "      <td>6210.0</td>\n",
       "    </tr>\n",
       "    <tr>\n",
       "      <th>1</th>\n",
       "      <td>1</td>\n",
       "      <td>0</td>\n",
       "      <td>0</td>\n",
       "      <td>9147</td>\n",
       "      <td>1</td>\n",
       "      <td>0.0</td>\n",
       "      <td>0.0</td>\n",
       "      <td>0.0</td>\n",
       "      <td>40.6401</td>\n",
       "      <td>0.0</td>\n",
       "      <td>...</td>\n",
       "      <td>0</td>\n",
       "      <td>0</td>\n",
       "      <td>0</td>\n",
       "      <td>1</td>\n",
       "      <td>1987</td>\n",
       "      <td>1987</td>\n",
       "      <td>1</td>\n",
       "      <td>0</td>\n",
       "      <td>1</td>\n",
       "      <td>7470.0</td>\n",
       "    </tr>\n",
       "    <tr>\n",
       "      <th>2</th>\n",
       "      <td>2</td>\n",
       "      <td>0</td>\n",
       "      <td>0</td>\n",
       "      <td>9876</td>\n",
       "      <td>1</td>\n",
       "      <td>0.0</td>\n",
       "      <td>0.0</td>\n",
       "      <td>0.0</td>\n",
       "      <td>34.3000</td>\n",
       "      <td>0.0</td>\n",
       "      <td>...</td>\n",
       "      <td>1</td>\n",
       "      <td>0</td>\n",
       "      <td>0</td>\n",
       "      <td>0</td>\n",
       "      <td>1903</td>\n",
       "      <td>1903</td>\n",
       "      <td>1</td>\n",
       "      <td>0</td>\n",
       "      <td>1</td>\n",
       "      <td>7605.0</td>\n",
       "    </tr>\n",
       "    <tr>\n",
       "      <th>3</th>\n",
       "      <td>3</td>\n",
       "      <td>0</td>\n",
       "      <td>0</td>\n",
       "      <td>9147</td>\n",
       "      <td>1</td>\n",
       "      <td>0.0</td>\n",
       "      <td>0.0</td>\n",
       "      <td>0.0</td>\n",
       "      <td>50.8000</td>\n",
       "      <td>0.0</td>\n",
       "      <td>...</td>\n",
       "      <td>0</td>\n",
       "      <td>0</td>\n",
       "      <td>0</td>\n",
       "      <td>0</td>\n",
       "      <td>1980</td>\n",
       "      <td>1980</td>\n",
       "      <td>1</td>\n",
       "      <td>0</td>\n",
       "      <td>1</td>\n",
       "      <td>7056.0</td>\n",
       "    </tr>\n",
       "    <tr>\n",
       "      <th>4</th>\n",
       "      <td>2</td>\n",
       "      <td>0</td>\n",
       "      <td>0</td>\n",
       "      <td>9876</td>\n",
       "      <td>1</td>\n",
       "      <td>0.0</td>\n",
       "      <td>0.0</td>\n",
       "      <td>0.0</td>\n",
       "      <td>38.4000</td>\n",
       "      <td>0.0</td>\n",
       "      <td>...</td>\n",
       "      <td>1</td>\n",
       "      <td>0</td>\n",
       "      <td>0</td>\n",
       "      <td>0</td>\n",
       "      <td>1903</td>\n",
       "      <td>1903</td>\n",
       "      <td>1</td>\n",
       "      <td>0</td>\n",
       "      <td>1</td>\n",
       "      <td>7605.0</td>\n",
       "    </tr>\n",
       "  </tbody>\n",
       "</table>\n",
       "<p>5 rows × 70 columns</p>\n",
       "</div>"
      ],
      "text/plain": [
       "   CreditLine  Classification  Department  DateAcquired  Cataloged  \\\n",
       "0           0               0           0          9595          1   \n",
       "1           1               0           0          9147          1   \n",
       "2           2               0           0          9876          1   \n",
       "3           3               0           0          9147          1   \n",
       "4           2               0           0          9876          1   \n",
       "\n",
       "   Circumference (cm)  Depth (cm)  Diameter (cm)  Height (cm)  Length (cm)  \\\n",
       "0                 0.0         0.0            0.0      48.6000          0.0   \n",
       "1                 0.0         0.0            0.0      40.6401          0.0   \n",
       "2                 0.0         0.0            0.0      34.3000          0.0   \n",
       "3                 0.0         0.0            0.0      50.8000          0.0   \n",
       "4                 0.0         0.0            0.0      38.4000          0.0   \n",
       "\n",
       "   ...  gouache  black  gelatin  colored pencil  TimeStarted  TimeFinished  \\\n",
       "0  ...        0      0        0               0         1896          1896   \n",
       "1  ...        0      0        0               1         1987          1987   \n",
       "2  ...        1      0        0               0         1903          1903   \n",
       "3  ...        0      0        0               0         1980          1980   \n",
       "4  ...        1      0        0               0         1903          1903   \n",
       "\n",
       "   NumMales  NumFemales  NumArtists  FirstArtistListed  \n",
       "0         1           0           1             6210.0  \n",
       "1         1           0           1             7470.0  \n",
       "2         1           0           1             7605.0  \n",
       "3         1           0           1             7056.0  \n",
       "4         1           0           1             7605.0  \n",
       "\n",
       "[5 rows x 70 columns]"
      ]
     },
     "execution_count": 17,
     "metadata": {},
     "output_type": "execute_result"
    }
   ],
   "source": [
    "print(df.columns)\n",
    "df.head(5)"
   ]
  },
  {
   "cell_type": "markdown",
   "id": "da95a999",
   "metadata": {},
   "source": [
    "## Exploration (EDA)"
   ]
  },
  {
   "cell_type": "markdown",
   "id": "19207da6",
   "metadata": {},
   "source": [
    "Below we do some data exploration, looking at the data given cataloged or not. The EDA is performed before the strings types are changed into catergoical int types."
   ]
  },
  {
   "cell_type": "code",
   "execution_count": 18,
   "id": "96c34ecb",
   "metadata": {
    "scrolled": true
   },
   "outputs": [],
   "source": [
    "# ncat = df.loc[df[\"Cataloged\"] == 0]\n",
    "# print(\"Not Catalogued: \", len(ncat[\"Cataloged\"]))\n",
    "# \n",
    "# cat = df.loc[df[\"Cataloged\"] == 1]\n",
    "# print(\"Cataloged: \", len(cat[\"Cataloged\"]))"
   ]
  },
  {
   "cell_type": "markdown",
   "id": "05a8820b",
   "metadata": {},
   "source": [
    "#### Dates of Acquisions"
   ]
  },
  {
   "cell_type": "code",
   "execution_count": 19,
   "id": "821fcc34",
   "metadata": {},
   "outputs": [],
   "source": [
    "# ## Top 25 acquisions dates\n",
    "# b = df[\"DateAcquired\"].value_counts()[:25]\n",
    "\n",
    "# b.plot.bar(title = \"Top 25 acquisions dates\", figsize = (10,8))"
   ]
  },
  {
   "cell_type": "code",
   "execution_count": 20,
   "id": "2000bae5",
   "metadata": {},
   "outputs": [],
   "source": [
    "# ## Top 10 acquision dates, given not catalogued\n",
    "# a = df.loc[df[\"Cataloged\"] == 0]\n",
    "# b = a[\"DateAcquired\"].value_counts()[:10]\n",
    "\n",
    "# b.plot.bar(title = \"Top 10 acquision dates, given not catalogued\", figsize = (10,8))"
   ]
  },
  {
   "cell_type": "code",
   "execution_count": 21,
   "id": "2f8caabe",
   "metadata": {},
   "outputs": [],
   "source": [
    "# ## Top 10 acquision dates, given catalogued\n",
    "# a = df.loc[df[\"Cataloged\"] == 1]\n",
    "# b = a[\"DateAcquired\"].value_counts()[:10]\n",
    "\n",
    "# b.plot.bar(title = \"Top 10 acquision dates, given catalogued\", figsize = (10,8))"
   ]
  },
  {
   "cell_type": "markdown",
   "id": "5df38e88",
   "metadata": {},
   "source": [
    "#### Departments"
   ]
  },
  {
   "cell_type": "code",
   "execution_count": 22,
   "id": "5002b294",
   "metadata": {},
   "outputs": [],
   "source": [
    "# ## Departments in ascending order of works\n",
    "# b = df[\"Department\"].value_counts()\n",
    "# b.plot.barh(title = \"Top Departments\", figsize = (10,8))"
   ]
  },
  {
   "cell_type": "code",
   "execution_count": 23,
   "id": "52871eb1",
   "metadata": {},
   "outputs": [],
   "source": [
    "# ## Departments in ascending order of works, given not catalogued\n",
    "# b = ncat[\"Department\"].value_counts()\n",
    "# b.plot.barh(title = \"Top Departments, given not catalogued\", figsize = (10,8))"
   ]
  },
  {
   "cell_type": "code",
   "execution_count": 24,
   "id": "289a108f",
   "metadata": {},
   "outputs": [],
   "source": [
    "# ## Departments in ascending order of works, given catalogued\n",
    "# b = cat[\"Department\"].value_counts()\n",
    "# b.plot.barh(title = \"Top Departments, given catalogued\", figsize = (10,8))"
   ]
  },
  {
   "cell_type": "markdown",
   "id": "cd733ac9",
   "metadata": {},
   "source": [
    "#### Credit Line"
   ]
  },
  {
   "cell_type": "code",
   "execution_count": 25,
   "id": "678fdbbd",
   "metadata": {},
   "outputs": [],
   "source": [
    "# ## Top 10 CreditLine info\n",
    "# b = df[\"CreditLine\"].value_counts()[:10]\n",
    "# b.plot.barh(title = \"Top 10 Credit Lines\", figsize = (10,8))"
   ]
  },
  {
   "cell_type": "code",
   "execution_count": 26,
   "id": "dca254be",
   "metadata": {},
   "outputs": [],
   "source": [
    "# ## Top 10 CreditLine info, given not catalogued\n",
    "# b = ncat[\"CreditLine\"].value_counts()[:10]\n",
    "# b.plot.barh(title = \"Top 10 Credit Lines, given not catalogued\", figsize = (10,8))"
   ]
  },
  {
   "cell_type": "code",
   "execution_count": 27,
   "id": "12eb65ee",
   "metadata": {},
   "outputs": [],
   "source": [
    "# ## Top 10 CreditLine info, given catalogued\n",
    "# b = cat[\"CreditLine\"].value_counts()[:10]\n",
    "# b.plot.barh(title = \"Top 10 Credit Lines, given catalogued\", figsize = (10,8))"
   ]
  },
  {
   "cell_type": "markdown",
   "id": "498d9885",
   "metadata": {},
   "source": [
    "## Analysis (Part 1)"
   ]
  },
  {
   "cell_type": "code",
   "execution_count": 28,
   "id": "e1f7f529",
   "metadata": {},
   "outputs": [],
   "source": [
    "from sklearn.model_selection import train_test_split\n",
    "from sklearn.metrics import ConfusionMatrixDisplay\n",
    "from sklearn import metrics\n",
    "import numpy as np"
   ]
  },
  {
   "cell_type": "markdown",
   "id": "993615b3",
   "metadata": {},
   "source": [
    "For this project we run two classification analysis algorithms: naive bayes & logistic regression. We also check to see which features have the greatest affect on whether an artwork will be catalogued or not."
   ]
  },
  {
   "cell_type": "markdown",
   "id": "fe7bf492",
   "metadata": {},
   "source": [
    "The **first feature set** we run is below."
   ]
  },
  {
   "cell_type": "code",
   "execution_count": 29,
   "id": "59bfd9b8",
   "metadata": {},
   "outputs": [],
   "source": [
    "features = ['CreditLine',\n",
    "       'Classification', 'Department', 'DateAcquired', \n",
    "       'Circumference (cm)', 'Depth (cm)', 'Diameter (cm)', 'Height (cm)',\n",
    "       'Length (cm)', 'Weight (kg)', 'Width (cm)', 'Seat Height (cm)',\n",
    "       'Duration (sec.)', 'NumMales', 'NumFemales', 'NumArtists',\n",
    "       'FirstArtistListed']\n",
    "\n",
    "\n",
    "\n",
    "X = df[features].to_numpy()\n",
    "y = df[\"Cataloged\"].to_numpy()\n"
   ]
  },
  {
   "cell_type": "markdown",
   "id": "0439b56a",
   "metadata": {},
   "source": [
    "We start off by creating three folds."
   ]
  },
  {
   "cell_type": "code",
   "execution_count": 30,
   "id": "c57fd96d",
   "metadata": {
    "scrolled": true
   },
   "outputs": [],
   "source": [
    "random.seed(10)\n",
    "\n",
    "length = X.shape[0]\n",
    "indices = list(range(length))\n",
    "np.random.shuffle(indices)\n",
    "\n",
    "mid = int(length//3)\n",
    "\n",
    "X_f1, y_f1 = X[indices[:mid], :], y[indices[:mid]]\n",
    "X_f2, y_f2 = X[indices[mid: (mid*2)], :], y[indices[mid: (mid*2)]]\n",
    "X_f3, y_f3 = X[indices[(mid*2):], :], y[indices[(mid*2):]]\n"
   ]
  },
  {
   "cell_type": "markdown",
   "id": "2696ab76",
   "metadata": {},
   "source": [
    "### Logistic Regression (Feature Set 1)"
   ]
  },
  {
   "cell_type": "code",
   "execution_count": 31,
   "id": "d2661383",
   "metadata": {},
   "outputs": [],
   "source": [
    "from sklearn.linear_model import LogisticRegression\n",
    "# import seaborn as sns\n",
    "import matplotlib.pyplot as plt"
   ]
  },
  {
   "cell_type": "code",
   "execution_count": 32,
   "id": "58e39b56",
   "metadata": {},
   "outputs": [],
   "source": [
    "lr = LogisticRegression()"
   ]
  },
  {
   "cell_type": "code",
   "execution_count": 33,
   "id": "280652bd",
   "metadata": {},
   "outputs": [],
   "source": [
    "# Fold3 = Test\n",
    "X_test, y_test = X_f3, y_f3 \n",
    "X_train = np.concatenate((X_f1, X_f2), axis = 0)\n",
    "y_train = np.concatenate((y_f1, y_f2), axis = 0)"
   ]
  },
  {
   "cell_type": "code",
   "execution_count": 34,
   "id": "89635d8d",
   "metadata": {},
   "outputs": [
    {
     "name": "stdout",
     "output_type": "stream",
     "text": [
      "900 ms ± 0 ns per loop (mean ± std. dev. of 1 run, 1 loop each)\n"
     ]
    }
   ],
   "source": [
    "%timeit -n1 -r1 classifier = lr.fit(X_train, y_train)"
   ]
  },
  {
   "cell_type": "code",
   "execution_count": 35,
   "id": "900f910d",
   "metadata": {},
   "outputs": [],
   "source": [
    "y_pred = lr.predict(X_test)"
   ]
  },
  {
   "cell_type": "code",
   "execution_count": 36,
   "id": "b151e232",
   "metadata": {
    "scrolled": true
   },
   "outputs": [
    {
     "name": "stdout",
     "output_type": "stream",
     "text": [
      "              precision    recall  f1-score   support\n",
      "\n",
      "           0       0.53      0.06      0.10     16026\n",
      "           1       0.65      0.97      0.78     28887\n",
      "\n",
      "    accuracy                           0.65     44913\n",
      "   macro avg       0.59      0.51      0.44     44913\n",
      "weighted avg       0.61      0.65      0.54     44913\n",
      "\n"
     ]
    }
   ],
   "source": [
    "print(metrics.classification_report(y_test, y_pred))"
   ]
  },
  {
   "cell_type": "code",
   "execution_count": 37,
   "id": "d78bb565",
   "metadata": {},
   "outputs": [
    {
     "data": {
      "text/html": [
       "<div>\n",
       "<style scoped>\n",
       "    .dataframe tbody tr th:only-of-type {\n",
       "        vertical-align: middle;\n",
       "    }\n",
       "\n",
       "    .dataframe tbody tr th {\n",
       "        vertical-align: top;\n",
       "    }\n",
       "\n",
       "    .dataframe thead th {\n",
       "        text-align: right;\n",
       "    }\n",
       "</style>\n",
       "<table border=\"1\" class=\"dataframe\">\n",
       "  <thead>\n",
       "    <tr style=\"text-align: right;\">\n",
       "      <th></th>\n",
       "      <th>Weights</th>\n",
       "    </tr>\n",
       "  </thead>\n",
       "  <tbody>\n",
       "    <tr>\n",
       "      <th>CreditLine</th>\n",
       "      <td>8.273215e-05</td>\n",
       "    </tr>\n",
       "    <tr>\n",
       "      <th>Classification</th>\n",
       "      <td>3.320555e-04</td>\n",
       "    </tr>\n",
       "    <tr>\n",
       "      <th>Department</th>\n",
       "      <td>4.212876e-06</td>\n",
       "    </tr>\n",
       "    <tr>\n",
       "      <th>DateAcquired</th>\n",
       "      <td>1.537652e-06</td>\n",
       "    </tr>\n",
       "    <tr>\n",
       "      <th>Circumference (cm)</th>\n",
       "      <td>3.863682e-07</td>\n",
       "    </tr>\n",
       "    <tr>\n",
       "      <th>Depth (cm)</th>\n",
       "      <td>7.225560e-04</td>\n",
       "    </tr>\n",
       "    <tr>\n",
       "      <th>Diameter (cm)</th>\n",
       "      <td>1.537022e-04</td>\n",
       "    </tr>\n",
       "    <tr>\n",
       "      <th>Height (cm)</th>\n",
       "      <td>7.749727e-03</td>\n",
       "    </tr>\n",
       "    <tr>\n",
       "      <th>Length (cm)</th>\n",
       "      <td>3.572888e-04</td>\n",
       "    </tr>\n",
       "    <tr>\n",
       "      <th>Weight (kg)</th>\n",
       "      <td>6.882361e-04</td>\n",
       "    </tr>\n",
       "    <tr>\n",
       "      <th>Width (cm)</th>\n",
       "      <td>7.728884e-03</td>\n",
       "    </tr>\n",
       "    <tr>\n",
       "      <th>Seat Height (cm)</th>\n",
       "      <td>0.000000e+00</td>\n",
       "    </tr>\n",
       "    <tr>\n",
       "      <th>Duration (sec.)</th>\n",
       "      <td>4.484686e-05</td>\n",
       "    </tr>\n",
       "    <tr>\n",
       "      <th>NumMales</th>\n",
       "      <td>6.118124e-05</td>\n",
       "    </tr>\n",
       "    <tr>\n",
       "      <th>NumFemales</th>\n",
       "      <td>4.569885e-05</td>\n",
       "    </tr>\n",
       "    <tr>\n",
       "      <th>NumArtists</th>\n",
       "      <td>9.062401e-05</td>\n",
       "    </tr>\n",
       "    <tr>\n",
       "      <th>FirstArtistListed</th>\n",
       "      <td>1.294315e-06</td>\n",
       "    </tr>\n",
       "  </tbody>\n",
       "</table>\n",
       "</div>"
      ],
      "text/plain": [
       "                         Weights\n",
       "CreditLine          8.273215e-05\n",
       "Classification      3.320555e-04\n",
       "Department          4.212876e-06\n",
       "DateAcquired        1.537652e-06\n",
       "Circumference (cm)  3.863682e-07\n",
       "Depth (cm)          7.225560e-04\n",
       "Diameter (cm)       1.537022e-04\n",
       "Height (cm)         7.749727e-03\n",
       "Length (cm)         3.572888e-04\n",
       "Weight (kg)         6.882361e-04\n",
       "Width (cm)          7.728884e-03\n",
       "Seat Height (cm)    0.000000e+00\n",
       "Duration (sec.)     4.484686e-05\n",
       "NumMales            6.118124e-05\n",
       "NumFemales          4.569885e-05\n",
       "NumArtists          9.062401e-05\n",
       "FirstArtistListed   1.294315e-06"
      ]
     },
     "execution_count": 37,
     "metadata": {},
     "output_type": "execute_result"
    }
   ],
   "source": [
    "w1 = pd.DataFrame(lr.coef_[0], columns=[\"Weights\"], index=features)\n",
    "w1"
   ]
  },
  {
   "cell_type": "code",
   "execution_count": 38,
   "id": "d8f63012",
   "metadata": {},
   "outputs": [
    {
     "data": {
      "text/plain": [
       "array([8.07858148e-05])"
      ]
     },
     "execution_count": 38,
     "metadata": {},
     "output_type": "execute_result"
    }
   ],
   "source": [
    "lr.intercept_"
   ]
  },
  {
   "cell_type": "code",
   "execution_count": 39,
   "id": "94a65102",
   "metadata": {},
   "outputs": [],
   "source": [
    "# class_names = classifier.classes_\n",
    "\n",
    "# np.set_printoptions(precision=2)\n",
    "\n",
    "# # Plot non-normalized confusion matrix\n",
    "# titles_options = [\n",
    "#     (\"F1: Confusion matrix, without normalization\", None),\n",
    "#     (\"F1: Normalized confusion matrix\", \"true\"),\n",
    "# ]\n",
    "# for title, normalize in titles_options:\n",
    "#     disp = ConfusionMatrixDisplay.from_estimator(\n",
    "#         classifier,\n",
    "#         X_test,\n",
    "#         y_test,\n",
    "#         display_labels=class_names[:8],\n",
    "#         cmap=plt.cm.Blues,\n",
    "#         normalize=normalize,\n",
    "#     )\n",
    "#     disp.ax_.set_title(title)\n",
    "#     disp.ax_.set_figsize=(10, 10)\n",
    "#     print(title)\n",
    "#     print(disp.confusion_matrix)\n",
    "\n",
    "# plt.show()"
   ]
  },
  {
   "cell_type": "code",
   "execution_count": 40,
   "id": "84cb2e39",
   "metadata": {},
   "outputs": [],
   "source": [
    "# Fold2 = Test\n",
    "X_test, y_test = X_f2, y_f2 \n",
    "X_train = np.concatenate((X_f1, X_f3), axis = 0)\n",
    "y_train = np.concatenate((y_f1, y_f3), axis = 0)"
   ]
  },
  {
   "cell_type": "code",
   "execution_count": 41,
   "id": "b1cac6b1",
   "metadata": {},
   "outputs": [
    {
     "name": "stdout",
     "output_type": "stream",
     "text": [
      "694 ms ± 0 ns per loop (mean ± std. dev. of 1 run, 1 loop each)\n"
     ]
    }
   ],
   "source": [
    "%timeit -n1 -r1 classifier = lr.fit(X_train, y_train)"
   ]
  },
  {
   "cell_type": "code",
   "execution_count": 42,
   "id": "67abcab8",
   "metadata": {},
   "outputs": [],
   "source": [
    "y_pred = lr.predict(X_test)"
   ]
  },
  {
   "cell_type": "code",
   "execution_count": 43,
   "id": "da0fd4bb",
   "metadata": {},
   "outputs": [
    {
     "name": "stdout",
     "output_type": "stream",
     "text": [
      "              precision    recall  f1-score   support\n",
      "\n",
      "           0       0.52      0.06      0.10     16132\n",
      "           1       0.65      0.97      0.78     28781\n",
      "\n",
      "    accuracy                           0.64     44913\n",
      "   macro avg       0.58      0.51      0.44     44913\n",
      "weighted avg       0.60      0.64      0.53     44913\n",
      "\n"
     ]
    }
   ],
   "source": [
    "print(metrics.classification_report(y_test, y_pred))"
   ]
  },
  {
   "cell_type": "code",
   "execution_count": 44,
   "id": "f98b90d5",
   "metadata": {
    "scrolled": true
   },
   "outputs": [
    {
     "data": {
      "text/html": [
       "<div>\n",
       "<style scoped>\n",
       "    .dataframe tbody tr th:only-of-type {\n",
       "        vertical-align: middle;\n",
       "    }\n",
       "\n",
       "    .dataframe tbody tr th {\n",
       "        vertical-align: top;\n",
       "    }\n",
       "\n",
       "    .dataframe thead th {\n",
       "        text-align: right;\n",
       "    }\n",
       "</style>\n",
       "<table border=\"1\" class=\"dataframe\">\n",
       "  <thead>\n",
       "    <tr style=\"text-align: right;\">\n",
       "      <th></th>\n",
       "      <th>Weights</th>\n",
       "    </tr>\n",
       "  </thead>\n",
       "  <tbody>\n",
       "    <tr>\n",
       "      <th>CreditLine</th>\n",
       "      <td>0.000076</td>\n",
       "    </tr>\n",
       "    <tr>\n",
       "      <th>Classification</th>\n",
       "      <td>0.000369</td>\n",
       "    </tr>\n",
       "    <tr>\n",
       "      <th>Department</th>\n",
       "      <td>0.000020</td>\n",
       "    </tr>\n",
       "    <tr>\n",
       "      <th>DateAcquired</th>\n",
       "      <td>0.000002</td>\n",
       "    </tr>\n",
       "    <tr>\n",
       "      <th>Circumference (cm)</th>\n",
       "      <td>0.000001</td>\n",
       "    </tr>\n",
       "    <tr>\n",
       "      <th>Depth (cm)</th>\n",
       "      <td>0.000735</td>\n",
       "    </tr>\n",
       "    <tr>\n",
       "      <th>Diameter (cm)</th>\n",
       "      <td>0.000152</td>\n",
       "    </tr>\n",
       "    <tr>\n",
       "      <th>Height (cm)</th>\n",
       "      <td>0.007798</td>\n",
       "    </tr>\n",
       "    <tr>\n",
       "      <th>Length (cm)</th>\n",
       "      <td>0.000296</td>\n",
       "    </tr>\n",
       "    <tr>\n",
       "      <th>Weight (kg)</th>\n",
       "      <td>0.001859</td>\n",
       "    </tr>\n",
       "    <tr>\n",
       "      <th>Width (cm)</th>\n",
       "      <td>0.007889</td>\n",
       "    </tr>\n",
       "    <tr>\n",
       "      <th>Seat Height (cm)</th>\n",
       "      <td>0.000000</td>\n",
       "    </tr>\n",
       "    <tr>\n",
       "      <th>Duration (sec.)</th>\n",
       "      <td>0.000012</td>\n",
       "    </tr>\n",
       "    <tr>\n",
       "      <th>NumMales</th>\n",
       "      <td>0.000068</td>\n",
       "    </tr>\n",
       "    <tr>\n",
       "      <th>NumFemales</th>\n",
       "      <td>0.000042</td>\n",
       "    </tr>\n",
       "    <tr>\n",
       "      <th>NumArtists</th>\n",
       "      <td>0.000096</td>\n",
       "    </tr>\n",
       "    <tr>\n",
       "      <th>FirstArtistListed</th>\n",
       "      <td>0.000002</td>\n",
       "    </tr>\n",
       "  </tbody>\n",
       "</table>\n",
       "</div>"
      ],
      "text/plain": [
       "                     Weights\n",
       "CreditLine          0.000076\n",
       "Classification      0.000369\n",
       "Department          0.000020\n",
       "DateAcquired        0.000002\n",
       "Circumference (cm)  0.000001\n",
       "Depth (cm)          0.000735\n",
       "Diameter (cm)       0.000152\n",
       "Height (cm)         0.007798\n",
       "Length (cm)         0.000296\n",
       "Weight (kg)         0.001859\n",
       "Width (cm)          0.007889\n",
       "Seat Height (cm)    0.000000\n",
       "Duration (sec.)     0.000012\n",
       "NumMales            0.000068\n",
       "NumFemales          0.000042\n",
       "NumArtists          0.000096\n",
       "FirstArtistListed   0.000002"
      ]
     },
     "execution_count": 44,
     "metadata": {},
     "output_type": "execute_result"
    }
   ],
   "source": [
    "w2 = pd.DataFrame(lr.coef_[0], columns=[\"Weights\"], index=features)\n",
    "w2"
   ]
  },
  {
   "cell_type": "code",
   "execution_count": 45,
   "id": "0401ba1a",
   "metadata": {},
   "outputs": [],
   "source": [
    "# class_names = classifier.classes_\n",
    "\n",
    "# np.set_printoptions(precision=2)\n",
    "\n",
    "# # Plot non-normalized confusion matrix\n",
    "# titles_options = [\n",
    "#     (\"F2: Confusion matrix, without normalization\", None),\n",
    "#     (\"F2: Normalized confusion matrix\", \"true\"),\n",
    "# ]\n",
    "# for title, normalize in titles_options:\n",
    "#     disp = ConfusionMatrixDisplay.from_estimator(\n",
    "#         classifier,\n",
    "#         X_test,\n",
    "#         y_test,\n",
    "#         display_labels=class_names[:8],\n",
    "#         cmap=plt.cm.Blues,\n",
    "#         normalize=normalize,\n",
    "#     )\n",
    "#     disp.ax_.set_title(title)\n",
    "#     disp.ax_.set_figsize=(10, 10)\n",
    "#     print(title)\n",
    "#     print(disp.confusion_matrix)\n",
    "\n",
    "# plt.show()"
   ]
  },
  {
   "cell_type": "code",
   "execution_count": 46,
   "id": "1ff14260",
   "metadata": {},
   "outputs": [],
   "source": [
    "# Fold1 = Test\n",
    "X_test, y_test = X_f1, y_f1 \n",
    "X_train = np.concatenate((X_f3, X_f2), axis = 0)\n",
    "y_train = np.concatenate((y_f3, y_f2), axis = 0)"
   ]
  },
  {
   "cell_type": "code",
   "execution_count": 47,
   "id": "f97b6250",
   "metadata": {},
   "outputs": [
    {
     "name": "stdout",
     "output_type": "stream",
     "text": [
      "952 ms ± 0 ns per loop (mean ± std. dev. of 1 run, 1 loop each)\n"
     ]
    }
   ],
   "source": [
    "%timeit -n1 -r1 classifier = lr.fit(X_train, y_train)"
   ]
  },
  {
   "cell_type": "code",
   "execution_count": 48,
   "id": "fa4a3903",
   "metadata": {},
   "outputs": [],
   "source": [
    "y_pred = lr.predict(X_test)"
   ]
  },
  {
   "cell_type": "code",
   "execution_count": 49,
   "id": "d0a2bf8b",
   "metadata": {},
   "outputs": [
    {
     "name": "stdout",
     "output_type": "stream",
     "text": [
      "              precision    recall  f1-score   support\n",
      "\n",
      "           0       0.51      0.05      0.10     16061\n",
      "           1       0.65      0.97      0.78     28852\n",
      "\n",
      "    accuracy                           0.64     44913\n",
      "   macro avg       0.58      0.51      0.44     44913\n",
      "weighted avg       0.60      0.64      0.53     44913\n",
      "\n"
     ]
    }
   ],
   "source": [
    "print(metrics.classification_report(y_test, y_pred))"
   ]
  },
  {
   "cell_type": "code",
   "execution_count": 50,
   "id": "fc00d6d2",
   "metadata": {
    "scrolled": true
   },
   "outputs": [
    {
     "data": {
      "text/html": [
       "<div>\n",
       "<style scoped>\n",
       "    .dataframe tbody tr th:only-of-type {\n",
       "        vertical-align: middle;\n",
       "    }\n",
       "\n",
       "    .dataframe tbody tr th {\n",
       "        vertical-align: top;\n",
       "    }\n",
       "\n",
       "    .dataframe thead th {\n",
       "        text-align: right;\n",
       "    }\n",
       "</style>\n",
       "<table border=\"1\" class=\"dataframe\">\n",
       "  <thead>\n",
       "    <tr style=\"text-align: right;\">\n",
       "      <th></th>\n",
       "      <th>Weights</th>\n",
       "    </tr>\n",
       "  </thead>\n",
       "  <tbody>\n",
       "    <tr>\n",
       "      <th>CreditLine</th>\n",
       "      <td>0.000079</td>\n",
       "    </tr>\n",
       "    <tr>\n",
       "      <th>Classification</th>\n",
       "      <td>0.000359</td>\n",
       "    </tr>\n",
       "    <tr>\n",
       "      <th>Department</th>\n",
       "      <td>0.000015</td>\n",
       "    </tr>\n",
       "    <tr>\n",
       "      <th>DateAcquired</th>\n",
       "      <td>0.000002</td>\n",
       "    </tr>\n",
       "    <tr>\n",
       "      <th>Circumference (cm)</th>\n",
       "      <td>0.000001</td>\n",
       "    </tr>\n",
       "    <tr>\n",
       "      <th>Depth (cm)</th>\n",
       "      <td>0.000676</td>\n",
       "    </tr>\n",
       "    <tr>\n",
       "      <th>Diameter (cm)</th>\n",
       "      <td>0.000155</td>\n",
       "    </tr>\n",
       "    <tr>\n",
       "      <th>Height (cm)</th>\n",
       "      <td>0.007691</td>\n",
       "    </tr>\n",
       "    <tr>\n",
       "      <th>Length (cm)</th>\n",
       "      <td>0.000353</td>\n",
       "    </tr>\n",
       "    <tr>\n",
       "      <th>Weight (kg)</th>\n",
       "      <td>0.001373</td>\n",
       "    </tr>\n",
       "    <tr>\n",
       "      <th>Width (cm)</th>\n",
       "      <td>0.007745</td>\n",
       "    </tr>\n",
       "    <tr>\n",
       "      <th>Seat Height (cm)</th>\n",
       "      <td>0.000000</td>\n",
       "    </tr>\n",
       "    <tr>\n",
       "      <th>Duration (sec.)</th>\n",
       "      <td>0.000022</td>\n",
       "    </tr>\n",
       "    <tr>\n",
       "      <th>NumMales</th>\n",
       "      <td>0.000063</td>\n",
       "    </tr>\n",
       "    <tr>\n",
       "      <th>NumFemales</th>\n",
       "      <td>0.000044</td>\n",
       "    </tr>\n",
       "    <tr>\n",
       "      <th>NumArtists</th>\n",
       "      <td>0.000092</td>\n",
       "    </tr>\n",
       "    <tr>\n",
       "      <th>FirstArtistListed</th>\n",
       "      <td>0.000003</td>\n",
       "    </tr>\n",
       "  </tbody>\n",
       "</table>\n",
       "</div>"
      ],
      "text/plain": [
       "                     Weights\n",
       "CreditLine          0.000079\n",
       "Classification      0.000359\n",
       "Department          0.000015\n",
       "DateAcquired        0.000002\n",
       "Circumference (cm)  0.000001\n",
       "Depth (cm)          0.000676\n",
       "Diameter (cm)       0.000155\n",
       "Height (cm)         0.007691\n",
       "Length (cm)         0.000353\n",
       "Weight (kg)         0.001373\n",
       "Width (cm)          0.007745\n",
       "Seat Height (cm)    0.000000\n",
       "Duration (sec.)     0.000022\n",
       "NumMales            0.000063\n",
       "NumFemales          0.000044\n",
       "NumArtists          0.000092\n",
       "FirstArtistListed   0.000003"
      ]
     },
     "execution_count": 50,
     "metadata": {},
     "output_type": "execute_result"
    }
   ],
   "source": [
    "w3 = pd.DataFrame(lr.coef_[0], columns=[\"Weights\"], index=features)\n",
    "w3"
   ]
  },
  {
   "cell_type": "code",
   "execution_count": 51,
   "id": "38082252",
   "metadata": {},
   "outputs": [],
   "source": [
    "# class_names = classifier.classes_\n",
    "\n",
    "# np.set_printoptions(precision=2)\n",
    "\n",
    "# # Plot non-normalized confusion matrix\n",
    "# titles_options = [\n",
    "#     (\"F3: Confusion matrix, without normalization\", None),\n",
    "#     (\"F3: Normalized confusion matrix\", \"true\"),\n",
    "# ]\n",
    "# for title, normalize in titles_options:\n",
    "#     disp = ConfusionMatrixDisplay.from_estimator(\n",
    "#         classifier,\n",
    "#         X_test,\n",
    "#         y_test,\n",
    "#         display_labels=class_names[:8],\n",
    "#         cmap=plt.cm.Blues,\n",
    "#         normalize=normalize,\n",
    "#     )\n",
    "#     disp.ax_.set_title(title)\n",
    "#     disp.ax_.set_figsize=(10, 10)\n",
    "#     print(title)\n",
    "#     print(disp.confusion_matrix)\n",
    "\n",
    "# plt.show()"
   ]
  },
  {
   "cell_type": "markdown",
   "id": "fc254826",
   "metadata": {},
   "source": [
    "We look at the average weights now"
   ]
  },
  {
   "cell_type": "code",
   "execution_count": 52,
   "id": "b371c704",
   "metadata": {},
   "outputs": [
    {
     "data": {
      "text/html": [
       "<div>\n",
       "<style scoped>\n",
       "    .dataframe tbody tr th:only-of-type {\n",
       "        vertical-align: middle;\n",
       "    }\n",
       "\n",
       "    .dataframe tbody tr th {\n",
       "        vertical-align: top;\n",
       "    }\n",
       "\n",
       "    .dataframe thead th {\n",
       "        text-align: right;\n",
       "    }\n",
       "</style>\n",
       "<table border=\"1\" class=\"dataframe\">\n",
       "  <thead>\n",
       "    <tr style=\"text-align: right;\">\n",
       "      <th></th>\n",
       "      <th>Weights</th>\n",
       "    </tr>\n",
       "  </thead>\n",
       "  <tbody>\n",
       "    <tr>\n",
       "      <th>CreditLine</th>\n",
       "      <td>7.920009e-05</td>\n",
       "    </tr>\n",
       "    <tr>\n",
       "      <th>Classification</th>\n",
       "      <td>3.533194e-04</td>\n",
       "    </tr>\n",
       "    <tr>\n",
       "      <th>Department</th>\n",
       "      <td>1.313471e-05</td>\n",
       "    </tr>\n",
       "    <tr>\n",
       "      <th>DateAcquired</th>\n",
       "      <td>1.553100e-06</td>\n",
       "    </tr>\n",
       "    <tr>\n",
       "      <th>Circumference (cm)</th>\n",
       "      <td>9.543643e-07</td>\n",
       "    </tr>\n",
       "    <tr>\n",
       "      <th>Depth (cm)</th>\n",
       "      <td>7.112098e-04</td>\n",
       "    </tr>\n",
       "    <tr>\n",
       "      <th>Diameter (cm)</th>\n",
       "      <td>1.535338e-04</td>\n",
       "    </tr>\n",
       "    <tr>\n",
       "      <th>Height (cm)</th>\n",
       "      <td>7.746335e-03</td>\n",
       "    </tr>\n",
       "    <tr>\n",
       "      <th>Length (cm)</th>\n",
       "      <td>3.353329e-04</td>\n",
       "    </tr>\n",
       "    <tr>\n",
       "      <th>Weight (kg)</th>\n",
       "      <td>1.306814e-03</td>\n",
       "    </tr>\n",
       "    <tr>\n",
       "      <th>Width (cm)</th>\n",
       "      <td>7.787564e-03</td>\n",
       "    </tr>\n",
       "    <tr>\n",
       "      <th>Seat Height (cm)</th>\n",
       "      <td>0.000000e+00</td>\n",
       "    </tr>\n",
       "    <tr>\n",
       "      <th>Duration (sec.)</th>\n",
       "      <td>2.647965e-05</td>\n",
       "    </tr>\n",
       "    <tr>\n",
       "      <th>NumMales</th>\n",
       "      <td>6.415723e-05</td>\n",
       "    </tr>\n",
       "    <tr>\n",
       "      <th>NumFemales</th>\n",
       "      <td>4.404201e-05</td>\n",
       "    </tr>\n",
       "    <tr>\n",
       "      <th>NumArtists</th>\n",
       "      <td>9.281476e-05</td>\n",
       "    </tr>\n",
       "    <tr>\n",
       "      <th>FirstArtistListed</th>\n",
       "      <td>1.931099e-06</td>\n",
       "    </tr>\n",
       "  </tbody>\n",
       "</table>\n",
       "</div>"
      ],
      "text/plain": [
       "                         Weights\n",
       "CreditLine          7.920009e-05\n",
       "Classification      3.533194e-04\n",
       "Department          1.313471e-05\n",
       "DateAcquired        1.553100e-06\n",
       "Circumference (cm)  9.543643e-07\n",
       "Depth (cm)          7.112098e-04\n",
       "Diameter (cm)       1.535338e-04\n",
       "Height (cm)         7.746335e-03\n",
       "Length (cm)         3.353329e-04\n",
       "Weight (kg)         1.306814e-03\n",
       "Width (cm)          7.787564e-03\n",
       "Seat Height (cm)    0.000000e+00\n",
       "Duration (sec.)     2.647965e-05\n",
       "NumMales            6.415723e-05\n",
       "NumFemales          4.404201e-05\n",
       "NumArtists          9.281476e-05\n",
       "FirstArtistListed   1.931099e-06"
      ]
     },
     "execution_count": 52,
     "metadata": {},
     "output_type": "execute_result"
    }
   ],
   "source": [
    "w = (w1+w2+w3)/3\n",
    "w"
   ]
  },
  {
   "cell_type": "code",
   "execution_count": 53,
   "id": "3ce6affa",
   "metadata": {},
   "outputs": [],
   "source": [
    "# w.to_csv(\"avg_w.csv\", sep=',')"
   ]
  },
  {
   "cell_type": "markdown",
   "id": "d2515396",
   "metadata": {},
   "source": [
    "### Naive Bayes  (Feature Set 1)"
   ]
  },
  {
   "cell_type": "code",
   "execution_count": 54,
   "id": "3e2a805a",
   "metadata": {},
   "outputs": [],
   "source": [
    "# Gaussian Naive Bayes\n",
    "from sklearn.naive_bayes import GaussianNB"
   ]
  },
  {
   "cell_type": "code",
   "execution_count": 55,
   "id": "f25746c9",
   "metadata": {},
   "outputs": [],
   "source": [
    "gnb = GaussianNB()"
   ]
  },
  {
   "cell_type": "code",
   "execution_count": 56,
   "id": "d1ceabc6",
   "metadata": {},
   "outputs": [],
   "source": [
    "# Fold3 = Test\n",
    "X_test, y_test = X_f3, y_f3 \n",
    "X_train = np.concatenate((X_f1, X_f2), axis = 0)\n",
    "y_train = np.concatenate((y_f1, y_f2), axis = 0)"
   ]
  },
  {
   "cell_type": "code",
   "execution_count": 57,
   "id": "eb3965b1",
   "metadata": {},
   "outputs": [
    {
     "name": "stdout",
     "output_type": "stream",
     "text": [
      "40.9 ms ± 0 ns per loop (mean ± std. dev. of 1 run, 1 loop each)\n"
     ]
    }
   ],
   "source": [
    "%timeit -n1 -r1 gnb.fit(X_train, y_train)"
   ]
  },
  {
   "cell_type": "code",
   "execution_count": 58,
   "id": "9bdaec3c",
   "metadata": {},
   "outputs": [],
   "source": [
    "y_pred = gnb.predict(X_test)"
   ]
  },
  {
   "cell_type": "code",
   "execution_count": 59,
   "id": "a0080ce0",
   "metadata": {},
   "outputs": [
    {
     "name": "stdout",
     "output_type": "stream",
     "text": [
      "              precision    recall  f1-score   support\n",
      "\n",
      "           0       0.37      0.99      0.54     16026\n",
      "           1       0.90      0.05      0.10     28887\n",
      "\n",
      "    accuracy                           0.39     44913\n",
      "   macro avg       0.64      0.52      0.32     44913\n",
      "weighted avg       0.71      0.39      0.26     44913\n",
      "\n"
     ]
    }
   ],
   "source": [
    "print(metrics.classification_report(y_test, y_pred))"
   ]
  },
  {
   "cell_type": "code",
   "execution_count": 60,
   "id": "2d2c4e43",
   "metadata": {},
   "outputs": [
    {
     "data": {
      "text/html": [
       "<div>\n",
       "<style scoped>\n",
       "    .dataframe tbody tr th:only-of-type {\n",
       "        vertical-align: middle;\n",
       "    }\n",
       "\n",
       "    .dataframe tbody tr th {\n",
       "        vertical-align: top;\n",
       "    }\n",
       "\n",
       "    .dataframe thead th {\n",
       "        text-align: right;\n",
       "    }\n",
       "</style>\n",
       "<table border=\"1\" class=\"dataframe\">\n",
       "  <thead>\n",
       "    <tr style=\"text-align: right;\">\n",
       "      <th></th>\n",
       "      <th>Class 0: Variance</th>\n",
       "      <th>Class 0: Mean</th>\n",
       "      <th>Class 1: Variance</th>\n",
       "      <th>Class 1: Mean</th>\n",
       "    </tr>\n",
       "  </thead>\n",
       "  <tbody>\n",
       "    <tr>\n",
       "      <th>CreditLine</th>\n",
       "      <td>4.517229e+06</td>\n",
       "      <td>1978.971640</td>\n",
       "      <td>5.525944e+06</td>\n",
       "      <td>2388.778703</td>\n",
       "    </tr>\n",
       "    <tr>\n",
       "      <th>Classification</th>\n",
       "      <td>4.942439e+01</td>\n",
       "      <td>6.138881</td>\n",
       "      <td>4.318625e+01</td>\n",
       "      <td>6.153749</td>\n",
       "    </tr>\n",
       "    <tr>\n",
       "      <th>Department</th>\n",
       "      <td>2.675858e+01</td>\n",
       "      <td>1.608735</td>\n",
       "      <td>2.616839e+01</td>\n",
       "      <td>1.439696</td>\n",
       "    </tr>\n",
       "    <tr>\n",
       "      <th>DateAcquired</th>\n",
       "      <td>3.745458e+10</td>\n",
       "      <td>-52119.682726</td>\n",
       "      <td>1.751336e+10</td>\n",
       "      <td>-18411.795759</td>\n",
       "    </tr>\n",
       "    <tr>\n",
       "      <th>Circumference (cm)</th>\n",
       "      <td>2.512729e+01</td>\n",
       "      <td>0.003417</td>\n",
       "      <td>2.513832e+01</td>\n",
       "      <td>0.003586</td>\n",
       "    </tr>\n",
       "    <tr>\n",
       "      <th>Depth (cm)</th>\n",
       "      <td>7.466801e+01</td>\n",
       "      <td>0.509035</td>\n",
       "      <td>5.029008e+02</td>\n",
       "      <td>2.307758</td>\n",
       "    </tr>\n",
       "    <tr>\n",
       "      <th>Diameter (cm)</th>\n",
       "      <td>2.747501e+01</td>\n",
       "      <td>0.062649</td>\n",
       "      <td>5.918144e+01</td>\n",
       "      <td>0.334697</td>\n",
       "    </tr>\n",
       "    <tr>\n",
       "      <th>Height (cm)</th>\n",
       "      <td>6.057552e+02</td>\n",
       "      <td>24.310268</td>\n",
       "      <td>3.345267e+03</td>\n",
       "      <td>37.743652</td>\n",
       "    </tr>\n",
       "    <tr>\n",
       "      <th>Length (cm)</th>\n",
       "      <td>3.038123e+01</td>\n",
       "      <td>0.079411</td>\n",
       "      <td>1.407638e+03</td>\n",
       "      <td>0.737942</td>\n",
       "    </tr>\n",
       "    <tr>\n",
       "      <th>Weight (kg)</th>\n",
       "      <td>2.492142e+01</td>\n",
       "      <td>0.000000</td>\n",
       "      <td>1.243745e+05</td>\n",
       "      <td>2.381600</td>\n",
       "    </tr>\n",
       "    <tr>\n",
       "      <th>Width (cm)</th>\n",
       "      <td>1.440644e+03</td>\n",
       "      <td>24.470783</td>\n",
       "      <td>5.928231e+03</td>\n",
       "      <td>38.101961</td>\n",
       "    </tr>\n",
       "    <tr>\n",
       "      <th>Seat Height (cm)</th>\n",
       "      <td>2.492142e+01</td>\n",
       "      <td>0.000000</td>\n",
       "      <td>2.492142e+01</td>\n",
       "      <td>0.000000</td>\n",
       "    </tr>\n",
       "    <tr>\n",
       "      <th>Duration (sec.)</th>\n",
       "      <td>3.580474e+05</td>\n",
       "      <td>22.012798</td>\n",
       "      <td>6.934446e+08</td>\n",
       "      <td>168.857894</td>\n",
       "    </tr>\n",
       "    <tr>\n",
       "      <th>NumMales</th>\n",
       "      <td>2.530620e+01</td>\n",
       "      <td>0.881247</td>\n",
       "      <td>2.541873e+01</td>\n",
       "      <td>0.859178</td>\n",
       "    </tr>\n",
       "    <tr>\n",
       "      <th>NumFemales</th>\n",
       "      <td>2.502096e+01</td>\n",
       "      <td>0.099028</td>\n",
       "      <td>2.509599e+01</td>\n",
       "      <td>0.187965</td>\n",
       "    </tr>\n",
       "    <tr>\n",
       "      <th>NumArtists</th>\n",
       "      <td>2.556060e+01</td>\n",
       "      <td>1.091231</td>\n",
       "      <td>2.553981e+01</td>\n",
       "      <td>1.120348</td>\n",
       "    </tr>\n",
       "    <tr>\n",
       "      <th>FirstArtistListed</th>\n",
       "      <td>2.105460e+08</td>\n",
       "      <td>8295.806169</td>\n",
       "      <td>2.259367e+08</td>\n",
       "      <td>9905.004702</td>\n",
       "    </tr>\n",
       "  </tbody>\n",
       "</table>\n",
       "</div>"
      ],
      "text/plain": [
       "                    Class 0: Variance  Class 0: Mean  Class 1: Variance  \\\n",
       "CreditLine               4.517229e+06    1978.971640       5.525944e+06   \n",
       "Classification           4.942439e+01       6.138881       4.318625e+01   \n",
       "Department               2.675858e+01       1.608735       2.616839e+01   \n",
       "DateAcquired             3.745458e+10  -52119.682726       1.751336e+10   \n",
       "Circumference (cm)       2.512729e+01       0.003417       2.513832e+01   \n",
       "Depth (cm)               7.466801e+01       0.509035       5.029008e+02   \n",
       "Diameter (cm)            2.747501e+01       0.062649       5.918144e+01   \n",
       "Height (cm)              6.057552e+02      24.310268       3.345267e+03   \n",
       "Length (cm)              3.038123e+01       0.079411       1.407638e+03   \n",
       "Weight (kg)              2.492142e+01       0.000000       1.243745e+05   \n",
       "Width (cm)               1.440644e+03      24.470783       5.928231e+03   \n",
       "Seat Height (cm)         2.492142e+01       0.000000       2.492142e+01   \n",
       "Duration (sec.)          3.580474e+05      22.012798       6.934446e+08   \n",
       "NumMales                 2.530620e+01       0.881247       2.541873e+01   \n",
       "NumFemales               2.502096e+01       0.099028       2.509599e+01   \n",
       "NumArtists               2.556060e+01       1.091231       2.553981e+01   \n",
       "FirstArtistListed        2.105460e+08    8295.806169       2.259367e+08   \n",
       "\n",
       "                    Class 1: Mean  \n",
       "CreditLine            2388.778703  \n",
       "Classification           6.153749  \n",
       "Department               1.439696  \n",
       "DateAcquired        -18411.795759  \n",
       "Circumference (cm)       0.003586  \n",
       "Depth (cm)               2.307758  \n",
       "Diameter (cm)            0.334697  \n",
       "Height (cm)             37.743652  \n",
       "Length (cm)              0.737942  \n",
       "Weight (kg)              2.381600  \n",
       "Width (cm)              38.101961  \n",
       "Seat Height (cm)         0.000000  \n",
       "Duration (sec.)        168.857894  \n",
       "NumMales                 0.859178  \n",
       "NumFemales               0.187965  \n",
       "NumArtists               1.120348  \n",
       "FirstArtistListed     9905.004702  "
      ]
     },
     "execution_count": 60,
     "metadata": {},
     "output_type": "execute_result"
    }
   ],
   "source": [
    "results = {\"Class 0: Variance\":gnb.var_[0], \"Class 0: Mean\":gnb.theta_[0],\n",
    "           \"Class 1: Variance\":gnb.var_[1], \"Class 1: Mean\":gnb.theta_[1]}\n",
    "\n",
    "vm1 = pd.DataFrame(results, index=features)\n",
    "vm1"
   ]
  },
  {
   "cell_type": "code",
   "execution_count": 61,
   "id": "77a66aa3",
   "metadata": {},
   "outputs": [],
   "source": [
    "# Fold2 = Test\n",
    "X_test, y_test = X_f2, y_f2 \n",
    "X_train = np.concatenate((X_f1, X_f3), axis = 0)\n",
    "y_train = np.concatenate((y_f1, y_f3), axis = 0)"
   ]
  },
  {
   "cell_type": "code",
   "execution_count": 62,
   "id": "0df45c30",
   "metadata": {},
   "outputs": [
    {
     "name": "stdout",
     "output_type": "stream",
     "text": [
      "29.1 ms ± 0 ns per loop (mean ± std. dev. of 1 run, 1 loop each)\n"
     ]
    }
   ],
   "source": [
    "%timeit -n1 -r1 gnb.fit(X_train, y_train)"
   ]
  },
  {
   "cell_type": "code",
   "execution_count": 63,
   "id": "7f635ae9",
   "metadata": {},
   "outputs": [],
   "source": [
    "y_pred = gnb.predict(X_test)"
   ]
  },
  {
   "cell_type": "code",
   "execution_count": 64,
   "id": "ed09ba2b",
   "metadata": {},
   "outputs": [
    {
     "name": "stdout",
     "output_type": "stream",
     "text": [
      "              precision    recall  f1-score   support\n",
      "\n",
      "           0       0.37      0.99      0.54     16132\n",
      "           1       0.89      0.06      0.11     28781\n",
      "\n",
      "    accuracy                           0.39     44913\n",
      "   macro avg       0.63      0.52      0.32     44913\n",
      "weighted avg       0.70      0.39      0.26     44913\n",
      "\n"
     ]
    }
   ],
   "source": [
    "print(metrics.classification_report(y_test, y_pred))"
   ]
  },
  {
   "cell_type": "code",
   "execution_count": 65,
   "id": "d253f8e5",
   "metadata": {},
   "outputs": [
    {
     "data": {
      "text/html": [
       "<div>\n",
       "<style scoped>\n",
       "    .dataframe tbody tr th:only-of-type {\n",
       "        vertical-align: middle;\n",
       "    }\n",
       "\n",
       "    .dataframe tbody tr th {\n",
       "        vertical-align: top;\n",
       "    }\n",
       "\n",
       "    .dataframe thead th {\n",
       "        text-align: right;\n",
       "    }\n",
       "</style>\n",
       "<table border=\"1\" class=\"dataframe\">\n",
       "  <thead>\n",
       "    <tr style=\"text-align: right;\">\n",
       "      <th></th>\n",
       "      <th>Class 0: Variance</th>\n",
       "      <th>Class 0: Mean</th>\n",
       "      <th>Class 1: Variance</th>\n",
       "      <th>Class 1: Mean</th>\n",
       "    </tr>\n",
       "  </thead>\n",
       "  <tbody>\n",
       "    <tr>\n",
       "      <th>CreditLine</th>\n",
       "      <td>4.597351e+06</td>\n",
       "      <td>2001.224826</td>\n",
       "      <td>5.508499e+06</td>\n",
       "      <td>2371.602106</td>\n",
       "    </tr>\n",
       "    <tr>\n",
       "      <th>Classification</th>\n",
       "      <td>4.916805e+01</td>\n",
       "      <td>6.140026</td>\n",
       "      <td>4.296082e+01</td>\n",
       "      <td>6.153588</td>\n",
       "    </tr>\n",
       "    <tr>\n",
       "      <th>Department</th>\n",
       "      <td>2.642822e+01</td>\n",
       "      <td>1.610621</td>\n",
       "      <td>2.581268e+01</td>\n",
       "      <td>1.436464</td>\n",
       "    </tr>\n",
       "    <tr>\n",
       "      <th>DateAcquired</th>\n",
       "      <td>3.728316e+10</td>\n",
       "      <td>-51793.802443</td>\n",
       "      <td>1.708228e+10</td>\n",
       "      <td>-17791.563778</td>\n",
       "    </tr>\n",
       "    <tr>\n",
       "      <th>Circumference (cm)</th>\n",
       "      <td>2.477031e+01</td>\n",
       "      <td>0.003428</td>\n",
       "      <td>2.492368e+01</td>\n",
       "      <td>0.005694</td>\n",
       "    </tr>\n",
       "    <tr>\n",
       "      <th>Depth (cm)</th>\n",
       "      <td>4.617157e+01</td>\n",
       "      <td>0.480578</td>\n",
       "      <td>5.785073e+02</td>\n",
       "      <td>2.372132</td>\n",
       "    </tr>\n",
       "    <tr>\n",
       "      <th>Diameter (cm)</th>\n",
       "      <td>2.603158e+01</td>\n",
       "      <td>0.056674</td>\n",
       "      <td>7.199154e+01</td>\n",
       "      <td>0.363855</td>\n",
       "    </tr>\n",
       "    <tr>\n",
       "      <th>Height (cm)</th>\n",
       "      <td>6.422392e+02</td>\n",
       "      <td>24.419334</td>\n",
       "      <td>3.987486e+03</td>\n",
       "      <td>37.994570</td>\n",
       "    </tr>\n",
       "    <tr>\n",
       "      <th>Length (cm)</th>\n",
       "      <td>3.033036e+01</td>\n",
       "      <td>0.075678</td>\n",
       "      <td>2.092662e+02</td>\n",
       "      <td>0.628691</td>\n",
       "    </tr>\n",
       "    <tr>\n",
       "      <th>Weight (kg)</th>\n",
       "      <td>2.456376e+01</td>\n",
       "      <td>0.000014</td>\n",
       "      <td>7.303139e+05</td>\n",
       "      <td>6.068197</td>\n",
       "    </tr>\n",
       "    <tr>\n",
       "      <th>Width (cm)</th>\n",
       "      <td>7.913959e+02</td>\n",
       "      <td>24.378178</td>\n",
       "      <td>6.397068e+03</td>\n",
       "      <td>38.212763</td>\n",
       "    </tr>\n",
       "    <tr>\n",
       "      <th>Seat Height (cm)</th>\n",
       "      <td>2.456376e+01</td>\n",
       "      <td>0.000000</td>\n",
       "      <td>2.456376e+01</td>\n",
       "      <td>0.000000</td>\n",
       "    </tr>\n",
       "    <tr>\n",
       "      <th>Duration (sec.)</th>\n",
       "      <td>6.295255e+05</td>\n",
       "      <td>33.110948</td>\n",
       "      <td>6.929888e+08</td>\n",
       "      <td>170.970730</td>\n",
       "    </tr>\n",
       "    <tr>\n",
       "      <th>NumMales</th>\n",
       "      <td>2.494393e+01</td>\n",
       "      <td>0.880980</td>\n",
       "      <td>2.509907e+01</td>\n",
       "      <td>0.864805</td>\n",
       "    </tr>\n",
       "    <tr>\n",
       "      <th>NumFemales</th>\n",
       "      <td>2.466473e+01</td>\n",
       "      <td>0.100477</td>\n",
       "      <td>2.475265e+01</td>\n",
       "      <td>0.190963</td>\n",
       "    </tr>\n",
       "    <tr>\n",
       "      <th>NumArtists</th>\n",
       "      <td>2.524339e+01</td>\n",
       "      <td>1.093870</td>\n",
       "      <td>2.525887e+01</td>\n",
       "      <td>1.129323</td>\n",
       "    </tr>\n",
       "    <tr>\n",
       "      <th>FirstArtistListed</th>\n",
       "      <td>2.086355e+08</td>\n",
       "      <td>8323.457008</td>\n",
       "      <td>2.253177e+08</td>\n",
       "      <td>9908.137082</td>\n",
       "    </tr>\n",
       "  </tbody>\n",
       "</table>\n",
       "</div>"
      ],
      "text/plain": [
       "                    Class 0: Variance  Class 0: Mean  Class 1: Variance  \\\n",
       "CreditLine               4.597351e+06    2001.224826       5.508499e+06   \n",
       "Classification           4.916805e+01       6.140026       4.296082e+01   \n",
       "Department               2.642822e+01       1.610621       2.581268e+01   \n",
       "DateAcquired             3.728316e+10  -51793.802443       1.708228e+10   \n",
       "Circumference (cm)       2.477031e+01       0.003428       2.492368e+01   \n",
       "Depth (cm)               4.617157e+01       0.480578       5.785073e+02   \n",
       "Diameter (cm)            2.603158e+01       0.056674       7.199154e+01   \n",
       "Height (cm)              6.422392e+02      24.419334       3.987486e+03   \n",
       "Length (cm)              3.033036e+01       0.075678       2.092662e+02   \n",
       "Weight (kg)              2.456376e+01       0.000014       7.303139e+05   \n",
       "Width (cm)               7.913959e+02      24.378178       6.397068e+03   \n",
       "Seat Height (cm)         2.456376e+01       0.000000       2.456376e+01   \n",
       "Duration (sec.)          6.295255e+05      33.110948       6.929888e+08   \n",
       "NumMales                 2.494393e+01       0.880980       2.509907e+01   \n",
       "NumFemales               2.466473e+01       0.100477       2.475265e+01   \n",
       "NumArtists               2.524339e+01       1.093870       2.525887e+01   \n",
       "FirstArtistListed        2.086355e+08    8323.457008       2.253177e+08   \n",
       "\n",
       "                    Class 1: Mean  \n",
       "CreditLine            2371.602106  \n",
       "Classification           6.153588  \n",
       "Department               1.436464  \n",
       "DateAcquired        -17791.563778  \n",
       "Circumference (cm)       0.005694  \n",
       "Depth (cm)               2.372132  \n",
       "Diameter (cm)            0.363855  \n",
       "Height (cm)             37.994570  \n",
       "Length (cm)              0.628691  \n",
       "Weight (kg)              6.068197  \n",
       "Width (cm)              38.212763  \n",
       "Seat Height (cm)         0.000000  \n",
       "Duration (sec.)        170.970730  \n",
       "NumMales                 0.864805  \n",
       "NumFemales               0.190963  \n",
       "NumArtists               1.129323  \n",
       "FirstArtistListed     9908.137082  "
      ]
     },
     "execution_count": 65,
     "metadata": {},
     "output_type": "execute_result"
    }
   ],
   "source": [
    "results = {\"Class 0: Variance\":gnb.var_[0], \"Class 0: Mean\":gnb.theta_[0],\n",
    "           \"Class 1: Variance\":gnb.var_[1], \"Class 1: Mean\":gnb.theta_[1]}\n",
    "\n",
    "vm2 = pd.DataFrame(results, index=features)\n",
    "vm2"
   ]
  },
  {
   "cell_type": "code",
   "execution_count": 66,
   "id": "04f11970",
   "metadata": {},
   "outputs": [],
   "source": [
    "# Fold1 = Test\n",
    "X_test, y_test = X_f1, y_f1 \n",
    "X_train = np.concatenate((X_f3, X_f2), axis = 0)\n",
    "y_train = np.concatenate((y_f3, y_f2), axis = 0)"
   ]
  },
  {
   "cell_type": "code",
   "execution_count": 67,
   "id": "d40533a5",
   "metadata": {},
   "outputs": [
    {
     "name": "stdout",
     "output_type": "stream",
     "text": [
      "32.4 ms ± 0 ns per loop (mean ± std. dev. of 1 run, 1 loop each)\n"
     ]
    }
   ],
   "source": [
    "%timeit -n1 -r1 gnb.fit(X_train, y_train)"
   ]
  },
  {
   "cell_type": "code",
   "execution_count": 68,
   "id": "11bde955",
   "metadata": {},
   "outputs": [],
   "source": [
    "y_pred = gnb.predict(X_test)"
   ]
  },
  {
   "cell_type": "code",
   "execution_count": 69,
   "id": "23bed9b8",
   "metadata": {},
   "outputs": [
    {
     "name": "stdout",
     "output_type": "stream",
     "text": [
      "              precision    recall  f1-score   support\n",
      "\n",
      "           0       0.37      0.99      0.54     16061\n",
      "           1       0.89      0.05      0.10     28852\n",
      "\n",
      "    accuracy                           0.39     44913\n",
      "   macro avg       0.63      0.52      0.32     44913\n",
      "weighted avg       0.71      0.39      0.26     44913\n",
      "\n"
     ]
    }
   ],
   "source": [
    "print(metrics.classification_report(y_test, y_pred))"
   ]
  },
  {
   "cell_type": "code",
   "execution_count": 70,
   "id": "83a6d096",
   "metadata": {},
   "outputs": [
    {
     "data": {
      "text/html": [
       "<div>\n",
       "<style scoped>\n",
       "    .dataframe tbody tr th:only-of-type {\n",
       "        vertical-align: middle;\n",
       "    }\n",
       "\n",
       "    .dataframe tbody tr th {\n",
       "        vertical-align: top;\n",
       "    }\n",
       "\n",
       "    .dataframe thead th {\n",
       "        text-align: right;\n",
       "    }\n",
       "</style>\n",
       "<table border=\"1\" class=\"dataframe\">\n",
       "  <thead>\n",
       "    <tr style=\"text-align: right;\">\n",
       "      <th></th>\n",
       "      <th>Class 0: Variance</th>\n",
       "      <th>Class 0: Mean</th>\n",
       "      <th>Class 1: Variance</th>\n",
       "      <th>Class 1: Mean</th>\n",
       "    </tr>\n",
       "  </thead>\n",
       "  <tbody>\n",
       "    <tr>\n",
       "      <th>CreditLine</th>\n",
       "      <td>4.528538e+06</td>\n",
       "      <td>1975.115275</td>\n",
       "      <td>5.492844e+06</td>\n",
       "      <td>2374.131667</td>\n",
       "    </tr>\n",
       "    <tr>\n",
       "      <th>Classification</th>\n",
       "      <td>4.939518e+01</td>\n",
       "      <td>6.106910</td>\n",
       "      <td>4.347971e+01</td>\n",
       "      <td>6.172869</td>\n",
       "    </tr>\n",
       "    <tr>\n",
       "      <th>Department</th>\n",
       "      <td>2.682982e+01</td>\n",
       "      <td>1.594316</td>\n",
       "      <td>2.626431e+01</td>\n",
       "      <td>1.440660</td>\n",
       "    </tr>\n",
       "    <tr>\n",
       "      <th>DateAcquired</th>\n",
       "      <td>3.791179e+10</td>\n",
       "      <td>-52925.101406</td>\n",
       "      <td>1.739882e+10</td>\n",
       "      <td>-18291.743532</td>\n",
       "    </tr>\n",
       "    <tr>\n",
       "      <th>Circumference (cm)</th>\n",
       "      <td>2.501822e+01</td>\n",
       "      <td>0.000000</td>\n",
       "      <td>2.516522e+01</td>\n",
       "      <td>0.002461</td>\n",
       "    </tr>\n",
       "    <tr>\n",
       "      <th>Depth (cm)</th>\n",
       "      <td>7.132870e+01</td>\n",
       "      <td>0.512162</td>\n",
       "      <td>4.626658e+02</td>\n",
       "      <td>2.257279</td>\n",
       "    </tr>\n",
       "    <tr>\n",
       "      <th>Diameter (cm)</th>\n",
       "      <td>2.785865e+01</td>\n",
       "      <td>0.071201</td>\n",
       "      <td>6.674633e+01</td>\n",
       "      <td>0.351295</td>\n",
       "    </tr>\n",
       "    <tr>\n",
       "      <th>Height (cm)</th>\n",
       "      <td>6.418459e+02</td>\n",
       "      <td>24.399297</td>\n",
       "      <td>2.449632e+03</td>\n",
       "      <td>37.872606</td>\n",
       "    </tr>\n",
       "    <tr>\n",
       "      <th>Length (cm)</th>\n",
       "      <td>3.059909e+01</td>\n",
       "      <td>0.076182</td>\n",
       "      <td>1.408387e+03</td>\n",
       "      <td>0.772387</td>\n",
       "    </tr>\n",
       "    <tr>\n",
       "      <th>Weight (kg)</th>\n",
       "      <td>2.501822e+01</td>\n",
       "      <td>0.000014</td>\n",
       "      <td>6.085829e+05</td>\n",
       "      <td>4.454813</td>\n",
       "    </tr>\n",
       "    <tr>\n",
       "      <th>Width (cm)</th>\n",
       "      <td>1.361882e+03</td>\n",
       "      <td>24.470229</td>\n",
       "      <td>5.027486e+03</td>\n",
       "      <td>38.271149</td>\n",
       "    </tr>\n",
       "    <tr>\n",
       "      <th>Seat Height (cm)</th>\n",
       "      <td>2.501822e+01</td>\n",
       "      <td>0.000000</td>\n",
       "      <td>2.501822e+01</td>\n",
       "      <td>0.000000</td>\n",
       "    </tr>\n",
       "    <tr>\n",
       "      <th>Duration (sec.)</th>\n",
       "      <td>5.462158e+05</td>\n",
       "      <td>28.645407</td>\n",
       "      <td>9.915033e+06</td>\n",
       "      <td>69.755011</td>\n",
       "    </tr>\n",
       "    <tr>\n",
       "      <th>NumMales</th>\n",
       "      <td>2.540098e+01</td>\n",
       "      <td>0.879470</td>\n",
       "      <td>2.550808e+01</td>\n",
       "      <td>0.861240</td>\n",
       "    </tr>\n",
       "    <tr>\n",
       "      <th>NumFemales</th>\n",
       "      <td>2.511867e+01</td>\n",
       "      <td>0.100006</td>\n",
       "      <td>2.519779e+01</td>\n",
       "      <td>0.188406</td>\n",
       "    </tr>\n",
       "    <tr>\n",
       "      <th>NumArtists</th>\n",
       "      <td>2.568949e+01</td>\n",
       "      <td>1.091641</td>\n",
       "      <td>2.562952e+01</td>\n",
       "      <td>1.124384</td>\n",
       "    </tr>\n",
       "    <tr>\n",
       "      <th>FirstArtistListed</th>\n",
       "      <td>2.010268e+08</td>\n",
       "      <td>8127.464799</td>\n",
       "      <td>2.228795e+08</td>\n",
       "      <td>9865.862437</td>\n",
       "    </tr>\n",
       "  </tbody>\n",
       "</table>\n",
       "</div>"
      ],
      "text/plain": [
       "                    Class 0: Variance  Class 0: Mean  Class 1: Variance  \\\n",
       "CreditLine               4.528538e+06    1975.115275       5.492844e+06   \n",
       "Classification           4.939518e+01       6.106910       4.347971e+01   \n",
       "Department               2.682982e+01       1.594316       2.626431e+01   \n",
       "DateAcquired             3.791179e+10  -52925.101406       1.739882e+10   \n",
       "Circumference (cm)       2.501822e+01       0.000000       2.516522e+01   \n",
       "Depth (cm)               7.132870e+01       0.512162       4.626658e+02   \n",
       "Diameter (cm)            2.785865e+01       0.071201       6.674633e+01   \n",
       "Height (cm)              6.418459e+02      24.399297       2.449632e+03   \n",
       "Length (cm)              3.059909e+01       0.076182       1.408387e+03   \n",
       "Weight (kg)              2.501822e+01       0.000014       6.085829e+05   \n",
       "Width (cm)               1.361882e+03      24.470229       5.027486e+03   \n",
       "Seat Height (cm)         2.501822e+01       0.000000       2.501822e+01   \n",
       "Duration (sec.)          5.462158e+05      28.645407       9.915033e+06   \n",
       "NumMales                 2.540098e+01       0.879470       2.550808e+01   \n",
       "NumFemales               2.511867e+01       0.100006       2.519779e+01   \n",
       "NumArtists               2.568949e+01       1.091641       2.562952e+01   \n",
       "FirstArtistListed        2.010268e+08    8127.464799       2.228795e+08   \n",
       "\n",
       "                    Class 1: Mean  \n",
       "CreditLine            2374.131667  \n",
       "Classification           6.172869  \n",
       "Department               1.440660  \n",
       "DateAcquired        -18291.743532  \n",
       "Circumference (cm)       0.002461  \n",
       "Depth (cm)               2.257279  \n",
       "Diameter (cm)            0.351295  \n",
       "Height (cm)             37.872606  \n",
       "Length (cm)              0.772387  \n",
       "Weight (kg)              4.454813  \n",
       "Width (cm)              38.271149  \n",
       "Seat Height (cm)         0.000000  \n",
       "Duration (sec.)         69.755011  \n",
       "NumMales                 0.861240  \n",
       "NumFemales               0.188406  \n",
       "NumArtists               1.124384  \n",
       "FirstArtistListed     9865.862437  "
      ]
     },
     "execution_count": 70,
     "metadata": {},
     "output_type": "execute_result"
    }
   ],
   "source": [
    "results = {\"Class 0: Variance\":gnb.var_[0], \"Class 0: Mean\":gnb.theta_[0],\n",
    "           \"Class 1: Variance\":gnb.var_[1], \"Class 1: Mean\":gnb.theta_[1]}\n",
    "\n",
    "vm3 = pd.DataFrame(results, index=features)\n",
    "vm3"
   ]
  },
  {
   "cell_type": "markdown",
   "id": "31220d9c",
   "metadata": {},
   "source": [
    "We now look at average variance and means"
   ]
  },
  {
   "cell_type": "code",
   "execution_count": 71,
   "id": "c6e62386",
   "metadata": {},
   "outputs": [
    {
     "data": {
      "text/html": [
       "<div>\n",
       "<style scoped>\n",
       "    .dataframe tbody tr th:only-of-type {\n",
       "        vertical-align: middle;\n",
       "    }\n",
       "\n",
       "    .dataframe tbody tr th {\n",
       "        vertical-align: top;\n",
       "    }\n",
       "\n",
       "    .dataframe thead th {\n",
       "        text-align: right;\n",
       "    }\n",
       "</style>\n",
       "<table border=\"1\" class=\"dataframe\">\n",
       "  <thead>\n",
       "    <tr style=\"text-align: right;\">\n",
       "      <th></th>\n",
       "      <th>Class 0: Variance</th>\n",
       "      <th>Class 0: Mean</th>\n",
       "      <th>Class 1: Variance</th>\n",
       "      <th>Class 1: Mean</th>\n",
       "    </tr>\n",
       "  </thead>\n",
       "  <tbody>\n",
       "    <tr>\n",
       "      <th>CreditLine</th>\n",
       "      <td>4.547706e+06</td>\n",
       "      <td>1985.103914</td>\n",
       "      <td>5.509096e+06</td>\n",
       "      <td>2378.170826</td>\n",
       "    </tr>\n",
       "    <tr>\n",
       "      <th>Classification</th>\n",
       "      <td>4.932921e+01</td>\n",
       "      <td>6.128605</td>\n",
       "      <td>4.320893e+01</td>\n",
       "      <td>6.160068</td>\n",
       "    </tr>\n",
       "    <tr>\n",
       "      <th>Department</th>\n",
       "      <td>2.667221e+01</td>\n",
       "      <td>1.604557</td>\n",
       "      <td>2.608180e+01</td>\n",
       "      <td>1.438940</td>\n",
       "    </tr>\n",
       "    <tr>\n",
       "      <th>DateAcquired</th>\n",
       "      <td>3.754984e+10</td>\n",
       "      <td>-52279.528858</td>\n",
       "      <td>1.733149e+10</td>\n",
       "      <td>-18165.034357</td>\n",
       "    </tr>\n",
       "    <tr>\n",
       "      <th>Circumference (cm)</th>\n",
       "      <td>2.497194e+01</td>\n",
       "      <td>0.002282</td>\n",
       "      <td>2.507574e+01</td>\n",
       "      <td>0.003914</td>\n",
       "    </tr>\n",
       "    <tr>\n",
       "      <th>Depth (cm)</th>\n",
       "      <td>6.405609e+01</td>\n",
       "      <td>0.500591</td>\n",
       "      <td>5.146913e+02</td>\n",
       "      <td>2.312390</td>\n",
       "    </tr>\n",
       "    <tr>\n",
       "      <th>Diameter (cm)</th>\n",
       "      <td>2.712175e+01</td>\n",
       "      <td>0.063508</td>\n",
       "      <td>6.597310e+01</td>\n",
       "      <td>0.349949</td>\n",
       "    </tr>\n",
       "    <tr>\n",
       "      <th>Height (cm)</th>\n",
       "      <td>6.299468e+02</td>\n",
       "      <td>24.376300</td>\n",
       "      <td>3.260795e+03</td>\n",
       "      <td>37.870276</td>\n",
       "    </tr>\n",
       "    <tr>\n",
       "      <th>Length (cm)</th>\n",
       "      <td>3.043689e+01</td>\n",
       "      <td>0.077090</td>\n",
       "      <td>1.008430e+03</td>\n",
       "      <td>0.713007</td>\n",
       "    </tr>\n",
       "    <tr>\n",
       "      <th>Weight (kg)</th>\n",
       "      <td>2.483447e+01</td>\n",
       "      <td>0.000009</td>\n",
       "      <td>4.877571e+05</td>\n",
       "      <td>4.301537</td>\n",
       "    </tr>\n",
       "    <tr>\n",
       "      <th>Width (cm)</th>\n",
       "      <td>1.197974e+03</td>\n",
       "      <td>24.439730</td>\n",
       "      <td>5.784262e+03</td>\n",
       "      <td>38.195291</td>\n",
       "    </tr>\n",
       "    <tr>\n",
       "      <th>Seat Height (cm)</th>\n",
       "      <td>2.483447e+01</td>\n",
       "      <td>0.000000</td>\n",
       "      <td>2.483447e+01</td>\n",
       "      <td>0.000000</td>\n",
       "    </tr>\n",
       "    <tr>\n",
       "      <th>Duration (sec.)</th>\n",
       "      <td>5.112629e+05</td>\n",
       "      <td>27.923051</td>\n",
       "      <td>4.654495e+08</td>\n",
       "      <td>136.527879</td>\n",
       "    </tr>\n",
       "    <tr>\n",
       "      <th>NumMales</th>\n",
       "      <td>2.521703e+01</td>\n",
       "      <td>0.880566</td>\n",
       "      <td>2.534196e+01</td>\n",
       "      <td>0.861741</td>\n",
       "    </tr>\n",
       "    <tr>\n",
       "      <th>NumFemales</th>\n",
       "      <td>2.493479e+01</td>\n",
       "      <td>0.099837</td>\n",
       "      <td>2.501548e+01</td>\n",
       "      <td>0.189111</td>\n",
       "    </tr>\n",
       "    <tr>\n",
       "      <th>NumArtists</th>\n",
       "      <td>2.549783e+01</td>\n",
       "      <td>1.092247</td>\n",
       "      <td>2.547607e+01</td>\n",
       "      <td>1.124685</td>\n",
       "    </tr>\n",
       "    <tr>\n",
       "      <th>FirstArtistListed</th>\n",
       "      <td>2.067361e+08</td>\n",
       "      <td>8248.909325</td>\n",
       "      <td>2.247113e+08</td>\n",
       "      <td>9893.001407</td>\n",
       "    </tr>\n",
       "  </tbody>\n",
       "</table>\n",
       "</div>"
      ],
      "text/plain": [
       "                    Class 0: Variance  Class 0: Mean  Class 1: Variance  \\\n",
       "CreditLine               4.547706e+06    1985.103914       5.509096e+06   \n",
       "Classification           4.932921e+01       6.128605       4.320893e+01   \n",
       "Department               2.667221e+01       1.604557       2.608180e+01   \n",
       "DateAcquired             3.754984e+10  -52279.528858       1.733149e+10   \n",
       "Circumference (cm)       2.497194e+01       0.002282       2.507574e+01   \n",
       "Depth (cm)               6.405609e+01       0.500591       5.146913e+02   \n",
       "Diameter (cm)            2.712175e+01       0.063508       6.597310e+01   \n",
       "Height (cm)              6.299468e+02      24.376300       3.260795e+03   \n",
       "Length (cm)              3.043689e+01       0.077090       1.008430e+03   \n",
       "Weight (kg)              2.483447e+01       0.000009       4.877571e+05   \n",
       "Width (cm)               1.197974e+03      24.439730       5.784262e+03   \n",
       "Seat Height (cm)         2.483447e+01       0.000000       2.483447e+01   \n",
       "Duration (sec.)          5.112629e+05      27.923051       4.654495e+08   \n",
       "NumMales                 2.521703e+01       0.880566       2.534196e+01   \n",
       "NumFemales               2.493479e+01       0.099837       2.501548e+01   \n",
       "NumArtists               2.549783e+01       1.092247       2.547607e+01   \n",
       "FirstArtistListed        2.067361e+08    8248.909325       2.247113e+08   \n",
       "\n",
       "                    Class 1: Mean  \n",
       "CreditLine            2378.170826  \n",
       "Classification           6.160068  \n",
       "Department               1.438940  \n",
       "DateAcquired        -18165.034357  \n",
       "Circumference (cm)       0.003914  \n",
       "Depth (cm)               2.312390  \n",
       "Diameter (cm)            0.349949  \n",
       "Height (cm)             37.870276  \n",
       "Length (cm)              0.713007  \n",
       "Weight (kg)              4.301537  \n",
       "Width (cm)              38.195291  \n",
       "Seat Height (cm)         0.000000  \n",
       "Duration (sec.)        136.527879  \n",
       "NumMales                 0.861741  \n",
       "NumFemales               0.189111  \n",
       "NumArtists               1.124685  \n",
       "FirstArtistListed     9893.001407  "
      ]
     },
     "execution_count": 71,
     "metadata": {},
     "output_type": "execute_result"
    }
   ],
   "source": [
    "vm = (vm1+vm2+vm3)/3\n",
    "vm"
   ]
  },
  {
   "cell_type": "markdown",
   "id": "217a59d7",
   "metadata": {},
   "source": [
    "### Observations (Part 1)\n",
    "\n",
    "Insights on relations.\n",
    "- All the weights lean positively\n",
    "- Width and Height have the most effect in comparison to all other features\n",
    "\n",
    "General Notes.\n",
    "- Out of the dimensionality attributes, height & width have the most effect \n",
    "  - On the assumption that most artworks will have a height/width, this makes sense\n",
    "- The classification of the artwork (ie painting, sculpture, etc) had 26x more effect than the Department (ie “Painting & Sculpture”, “Film”, etc)\n",
    "  - Classification is a subfield of department in a sense so I wonder if medium, a subfield of classification has more of an effect?\n",
    "- The number of male artists has more of an effect than the number of females\n",
    "  - Which could just be related to the overwhelming number of male artists in the collection\n",
    "- Interesting insight, the mean & variance for the duration of a film is strikingly different between the classes. \n",
    "  - Not Catalogued: \n",
    "    - Var: 4.98e+05\n",
    "    - Mean: 28.52\n",
    "  - Catalogued:\n",
    "    - Var: 9.38e+06\n",
    "    - Mean: 63.15\n"
   ]
  },
  {
   "cell_type": "markdown",
   "id": "107573e4",
   "metadata": {},
   "source": [
    "## Analysis (Part 2)"
   ]
  },
  {
   "cell_type": "markdown",
   "id": "cc5af27a",
   "metadata": {},
   "source": [
    "The **second feature set** is below"
   ]
  },
  {
   "cell_type": "code",
   "execution_count": 72,
   "id": "8ccdaba6",
   "metadata": {},
   "outputs": [
    {
     "name": "stdout",
     "output_type": "stream",
     "text": [
      "Features to look at: \n",
      "['CreditLine', 'Classification', 'Department', 'DateAcquired', 'Circumference (cm)', 'Depth (cm)', 'Diameter (cm)', 'Height (cm)', 'Length (cm)', 'Weight (kg)', 'Width (cm)', 'Seat Height (cm)', 'Duration (sec.)', 'silkscreen', 'white', 'platinum print', 'wood', 'bronze', 'screenprint', 'paint', 'cardboard', 'collotype', 'woodcut', 'video', 'letterpress', 'pencil', 'color', 'color print', 'chromogenic', 'ink', 'board', 'albumen', 'silent', 'watercolor', 'poster', 'oil', 'illustrated book', 'portfolio', 'pigmented', 'tracing paper', 'sound', 'canvas', 'inkjet print', 'charcoal', 'linoleum cut', 'photogravure', 'lithograph', 'matte', 'glass negative', 'etching', 'aquatint', 'dye transfer print', 'drypoint', 'engraving', 'ballpoint pen', 'photolithograph', 'paper', 'offset', 'silver print', 'gouache', 'black', 'gelatin', 'colored pencil', 'TimeStarted', 'TimeFinished', 'NumMales', 'NumFemales', 'NumArtists', 'FirstArtistListed']\n"
     ]
    }
   ],
   "source": [
    "features = list(df.columns)\n",
    "features.remove(\"Cataloged\")\n",
    "\n",
    "print(\"Features to look at: \")\n",
    "print(features)\n",
    "\n",
    "X = df[features].to_numpy()\n",
    "y = df[\"Cataloged\"].to_numpy()"
   ]
  },
  {
   "cell_type": "markdown",
   "id": "3b4898b0",
   "metadata": {},
   "source": [
    "We start off by creating three folds"
   ]
  },
  {
   "cell_type": "code",
   "execution_count": 73,
   "id": "4d255748",
   "metadata": {},
   "outputs": [],
   "source": [
    "length = X.shape[0]\n",
    "indices = list(range(length))\n",
    "np.random.shuffle(indices)\n",
    "\n",
    "mid = int(length//3)\n",
    "\n",
    "X_f1, y_f1 = X[indices[:mid], :], y[indices[:mid]]\n",
    "X_f2, y_f2 = X[indices[mid: (mid*2)], :], y[indices[mid: (mid*2)]]\n",
    "X_f3, y_f3 = X[indices[(mid*2):], :], y[indices[(mid*2):]]\n"
   ]
  },
  {
   "cell_type": "markdown",
   "id": "6de6905a",
   "metadata": {},
   "source": [
    "### Naive Bayes (Feature Set 2)"
   ]
  },
  {
   "cell_type": "code",
   "execution_count": 74,
   "id": "6cf8d2ba",
   "metadata": {},
   "outputs": [],
   "source": [
    "# Fold3 = Test\n",
    "X_test, y_test = X_f3, y_f3 \n",
    "X_train = np.concatenate((X_f1, X_f2), axis = 0)\n",
    "y_train = np.concatenate((y_f1, y_f2), axis = 0)"
   ]
  },
  {
   "cell_type": "code",
   "execution_count": 75,
   "id": "d59d8ead",
   "metadata": {},
   "outputs": [
    {
     "name": "stdout",
     "output_type": "stream",
     "text": [
      "417 ms ± 0 ns per loop (mean ± std. dev. of 1 run, 1 loop each)\n"
     ]
    }
   ],
   "source": [
    "%timeit -n1 -r1 gnb.fit(X_train, y_train)"
   ]
  },
  {
   "cell_type": "code",
   "execution_count": 76,
   "id": "ea386a13",
   "metadata": {},
   "outputs": [],
   "source": [
    "y_pred = gnb.predict(X_test)"
   ]
  },
  {
   "cell_type": "code",
   "execution_count": 77,
   "id": "e175be55",
   "metadata": {},
   "outputs": [
    {
     "name": "stdout",
     "output_type": "stream",
     "text": [
      "              precision    recall  f1-score   support\n",
      "\n",
      "           0       0.37      0.99      0.54     16168\n",
      "           1       0.90      0.06      0.10     28745\n",
      "\n",
      "    accuracy                           0.39     44913\n",
      "   macro avg       0.63      0.52      0.32     44913\n",
      "weighted avg       0.71      0.39      0.26     44913\n",
      "\n"
     ]
    }
   ],
   "source": [
    "print(metrics.classification_report(y_test, y_pred))"
   ]
  },
  {
   "cell_type": "code",
   "execution_count": 78,
   "id": "7ebcca5f",
   "metadata": {},
   "outputs": [
    {
     "data": {
      "text/html": [
       "<div>\n",
       "<style scoped>\n",
       "    .dataframe tbody tr th:only-of-type {\n",
       "        vertical-align: middle;\n",
       "    }\n",
       "\n",
       "    .dataframe tbody tr th {\n",
       "        vertical-align: top;\n",
       "    }\n",
       "\n",
       "    .dataframe thead th {\n",
       "        text-align: right;\n",
       "    }\n",
       "</style>\n",
       "<table border=\"1\" class=\"dataframe\">\n",
       "  <thead>\n",
       "    <tr style=\"text-align: right;\">\n",
       "      <th></th>\n",
       "      <th>Class 0: Variance</th>\n",
       "      <th>Class 0: Mean</th>\n",
       "      <th>Class 1: Variance</th>\n",
       "      <th>Class 1: Mean</th>\n",
       "    </tr>\n",
       "  </thead>\n",
       "  <tbody>\n",
       "    <tr>\n",
       "      <th>CreditLine</th>\n",
       "      <td>4.526331e+06</td>\n",
       "      <td>1976.279617</td>\n",
       "      <td>5.529487e+06</td>\n",
       "      <td>2382.292133</td>\n",
       "    </tr>\n",
       "    <tr>\n",
       "      <th>Classification</th>\n",
       "      <td>4.894180e+01</td>\n",
       "      <td>6.113756</td>\n",
       "      <td>4.285667e+01</td>\n",
       "      <td>6.148767</td>\n",
       "    </tr>\n",
       "    <tr>\n",
       "      <th>Department</th>\n",
       "      <td>2.639721e+01</td>\n",
       "      <td>1.601479</td>\n",
       "      <td>2.580533e+01</td>\n",
       "      <td>1.436313</td>\n",
       "    </tr>\n",
       "    <tr>\n",
       "      <th>DateAcquired</th>\n",
       "      <td>3.734183e+10</td>\n",
       "      <td>-51961.338679</td>\n",
       "      <td>1.705471e+10</td>\n",
       "      <td>-17758.878425</td>\n",
       "    </tr>\n",
       "    <tr>\n",
       "      <th>Circumference (cm)</th>\n",
       "      <td>2.472360e+01</td>\n",
       "      <td>0.002246</td>\n",
       "      <td>2.477767e+01</td>\n",
       "      <td>0.003289</td>\n",
       "    </tr>\n",
       "    <tr>\n",
       "      <th>...</th>\n",
       "      <td>...</td>\n",
       "      <td>...</td>\n",
       "      <td>...</td>\n",
       "      <td>...</td>\n",
       "    </tr>\n",
       "    <tr>\n",
       "      <th>TimeFinished</th>\n",
       "      <td>1.135736e+03</td>\n",
       "      <td>1950.765967</td>\n",
       "      <td>1.204896e+03</td>\n",
       "      <td>1959.031848</td>\n",
       "    </tr>\n",
       "    <tr>\n",
       "      <th>NumMales</th>\n",
       "      <td>2.494810e+01</td>\n",
       "      <td>0.880628</td>\n",
       "      <td>2.507852e+01</td>\n",
       "      <td>0.863401</td>\n",
       "    </tr>\n",
       "    <tr>\n",
       "      <th>NumFemales</th>\n",
       "      <td>2.466173e+01</td>\n",
       "      <td>0.099466</td>\n",
       "      <td>2.474102e+01</td>\n",
       "      <td>0.188749</td>\n",
       "    </tr>\n",
       "    <tr>\n",
       "      <th>NumArtists</th>\n",
       "      <td>2.521891e+01</td>\n",
       "      <td>1.091978</td>\n",
       "      <td>2.520073e+01</td>\n",
       "      <td>1.126560</td>\n",
       "    </tr>\n",
       "    <tr>\n",
       "      <th>FirstArtistListed</th>\n",
       "      <td>2.039888e+08</td>\n",
       "      <td>8204.534679</td>\n",
       "      <td>2.213656e+08</td>\n",
       "      <td>9872.325677</td>\n",
       "    </tr>\n",
       "  </tbody>\n",
       "</table>\n",
       "<p>69 rows × 4 columns</p>\n",
       "</div>"
      ],
      "text/plain": [
       "                    Class 0: Variance  Class 0: Mean  Class 1: Variance  \\\n",
       "CreditLine               4.526331e+06    1976.279617       5.529487e+06   \n",
       "Classification           4.894180e+01       6.113756       4.285667e+01   \n",
       "Department               2.639721e+01       1.601479       2.580533e+01   \n",
       "DateAcquired             3.734183e+10  -51961.338679       1.705471e+10   \n",
       "Circumference (cm)       2.472360e+01       0.002246       2.477767e+01   \n",
       "...                               ...            ...                ...   \n",
       "TimeFinished             1.135736e+03    1950.765967       1.204896e+03   \n",
       "NumMales                 2.494810e+01       0.880628       2.507852e+01   \n",
       "NumFemales               2.466173e+01       0.099466       2.474102e+01   \n",
       "NumArtists               2.521891e+01       1.091978       2.520073e+01   \n",
       "FirstArtistListed        2.039888e+08    8204.534679       2.213656e+08   \n",
       "\n",
       "                    Class 1: Mean  \n",
       "CreditLine            2382.292133  \n",
       "Classification           6.148767  \n",
       "Department               1.436313  \n",
       "DateAcquired        -17758.878425  \n",
       "Circumference (cm)       0.003289  \n",
       "...                           ...  \n",
       "TimeFinished          1959.031848  \n",
       "NumMales                 0.863401  \n",
       "NumFemales               0.188749  \n",
       "NumArtists               1.126560  \n",
       "FirstArtistListed     9872.325677  \n",
       "\n",
       "[69 rows x 4 columns]"
      ]
     },
     "execution_count": 78,
     "metadata": {},
     "output_type": "execute_result"
    }
   ],
   "source": [
    "results = {\"Class 0: Variance\":gnb.var_[0], \"Class 0: Mean\":gnb.theta_[0],\n",
    "           \"Class 1: Variance\":gnb.var_[1], \"Class 1: Mean\":gnb.theta_[1]}\n",
    "\n",
    "vm1 = pd.DataFrame(results, index=features)\n",
    "vm1"
   ]
  },
  {
   "cell_type": "code",
   "execution_count": 79,
   "id": "ad0ec0fa",
   "metadata": {},
   "outputs": [],
   "source": [
    "# Fold2 = Test\n",
    "X_test, y_test = X_f2, y_f2 \n",
    "X_train = np.concatenate((X_f1, X_f3), axis = 0)\n",
    "y_train = np.concatenate((y_f1, y_f3), axis = 0)"
   ]
  },
  {
   "cell_type": "code",
   "execution_count": 80,
   "id": "171e896e",
   "metadata": {},
   "outputs": [
    {
     "name": "stdout",
     "output_type": "stream",
     "text": [
      "398 ms ± 0 ns per loop (mean ± std. dev. of 1 run, 1 loop each)\n"
     ]
    }
   ],
   "source": [
    "%timeit -n1 -r1 gnb.fit(X_train, y_train)"
   ]
  },
  {
   "cell_type": "code",
   "execution_count": 81,
   "id": "1fc97f25",
   "metadata": {},
   "outputs": [],
   "source": [
    "y_pred = gnb.predict(X_test)"
   ]
  },
  {
   "cell_type": "code",
   "execution_count": 82,
   "id": "243be38f",
   "metadata": {},
   "outputs": [
    {
     "name": "stdout",
     "output_type": "stream",
     "text": [
      "              precision    recall  f1-score   support\n",
      "\n",
      "           0       0.37      0.98      0.54     16065\n",
      "           1       0.88      0.07      0.13     28848\n",
      "\n",
      "    accuracy                           0.40     44913\n",
      "   macro avg       0.63      0.53      0.33     44913\n",
      "weighted avg       0.70      0.40      0.27     44913\n",
      "\n"
     ]
    }
   ],
   "source": [
    "print(metrics.classification_report(y_test, y_pred))"
   ]
  },
  {
   "cell_type": "code",
   "execution_count": 83,
   "id": "0044cfaa",
   "metadata": {},
   "outputs": [
    {
     "data": {
      "text/html": [
       "<div>\n",
       "<style scoped>\n",
       "    .dataframe tbody tr th:only-of-type {\n",
       "        vertical-align: middle;\n",
       "    }\n",
       "\n",
       "    .dataframe tbody tr th {\n",
       "        vertical-align: top;\n",
       "    }\n",
       "\n",
       "    .dataframe thead th {\n",
       "        text-align: right;\n",
       "    }\n",
       "</style>\n",
       "<table border=\"1\" class=\"dataframe\">\n",
       "  <thead>\n",
       "    <tr style=\"text-align: right;\">\n",
       "      <th></th>\n",
       "      <th>Class 0: Variance</th>\n",
       "      <th>Class 0: Mean</th>\n",
       "      <th>Class 1: Variance</th>\n",
       "      <th>Class 1: Mean</th>\n",
       "    </tr>\n",
       "  </thead>\n",
       "  <tbody>\n",
       "    <tr>\n",
       "      <th>CreditLine</th>\n",
       "      <td>4.541673e+06</td>\n",
       "      <td>1981.213193</td>\n",
       "      <td>5.517574e+06</td>\n",
       "      <td>2383.783482</td>\n",
       "    </tr>\n",
       "    <tr>\n",
       "      <th>Classification</th>\n",
       "      <td>4.979054e+01</td>\n",
       "      <td>6.130963</td>\n",
       "      <td>4.356235e+01</td>\n",
       "      <td>6.164915</td>\n",
       "    </tr>\n",
       "    <tr>\n",
       "      <th>Department</th>\n",
       "      <td>2.702102e+01</td>\n",
       "      <td>1.601636</td>\n",
       "      <td>2.643885e+01</td>\n",
       "      <td>1.441410</td>\n",
       "    </tr>\n",
       "    <tr>\n",
       "      <th>DateAcquired</th>\n",
       "      <td>3.797113e+10</td>\n",
       "      <td>-53021.682621</td>\n",
       "      <td>1.763759e+10</td>\n",
       "      <td>-18608.439052</td>\n",
       "    </tr>\n",
       "    <tr>\n",
       "      <th>Circumference (cm)</th>\n",
       "      <td>2.539445e+01</td>\n",
       "      <td>0.003421</td>\n",
       "      <td>2.541555e+01</td>\n",
       "      <td>0.003766</td>\n",
       "    </tr>\n",
       "    <tr>\n",
       "      <th>...</th>\n",
       "      <td>...</td>\n",
       "      <td>...</td>\n",
       "      <td>...</td>\n",
       "      <td>...</td>\n",
       "    </tr>\n",
       "    <tr>\n",
       "      <th>TimeFinished</th>\n",
       "      <td>1.138445e+03</td>\n",
       "      <td>1950.563103</td>\n",
       "      <td>1.208003e+03</td>\n",
       "      <td>1958.844552</td>\n",
       "    </tr>\n",
       "    <tr>\n",
       "      <th>NumMales</th>\n",
       "      <td>2.556582e+01</td>\n",
       "      <td>0.880481</td>\n",
       "      <td>2.571540e+01</td>\n",
       "      <td>0.861978</td>\n",
       "    </tr>\n",
       "    <tr>\n",
       "      <th>NumFemales</th>\n",
       "      <td>2.528602e+01</td>\n",
       "      <td>0.097717</td>\n",
       "      <td>2.537349e+01</td>\n",
       "      <td>0.189347</td>\n",
       "    </tr>\n",
       "    <tr>\n",
       "      <th>NumArtists</th>\n",
       "      <td>2.586681e+01</td>\n",
       "      <td>1.090471</td>\n",
       "      <td>2.586558e+01</td>\n",
       "      <td>1.125156</td>\n",
       "    </tr>\n",
       "    <tr>\n",
       "      <th>FirstArtistListed</th>\n",
       "      <td>2.044900e+08</td>\n",
       "      <td>8253.580363</td>\n",
       "      <td>2.281706e+08</td>\n",
       "      <td>9929.092835</td>\n",
       "    </tr>\n",
       "  </tbody>\n",
       "</table>\n",
       "<p>69 rows × 4 columns</p>\n",
       "</div>"
      ],
      "text/plain": [
       "                    Class 0: Variance  Class 0: Mean  Class 1: Variance  \\\n",
       "CreditLine               4.541673e+06    1981.213193       5.517574e+06   \n",
       "Classification           4.979054e+01       6.130963       4.356235e+01   \n",
       "Department               2.702102e+01       1.601636       2.643885e+01   \n",
       "DateAcquired             3.797113e+10  -53021.682621       1.763759e+10   \n",
       "Circumference (cm)       2.539445e+01       0.003421       2.541555e+01   \n",
       "...                               ...            ...                ...   \n",
       "TimeFinished             1.138445e+03    1950.563103       1.208003e+03   \n",
       "NumMales                 2.556582e+01       0.880481       2.571540e+01   \n",
       "NumFemales               2.528602e+01       0.097717       2.537349e+01   \n",
       "NumArtists               2.586681e+01       1.090471       2.586558e+01   \n",
       "FirstArtistListed        2.044900e+08    8253.580363       2.281706e+08   \n",
       "\n",
       "                    Class 1: Mean  \n",
       "CreditLine            2383.783482  \n",
       "Classification           6.164915  \n",
       "Department               1.441410  \n",
       "DateAcquired        -18608.439052  \n",
       "Circumference (cm)       0.003766  \n",
       "...                           ...  \n",
       "TimeFinished          1958.844552  \n",
       "NumMales                 0.861978  \n",
       "NumFemales               0.189347  \n",
       "NumArtists               1.125156  \n",
       "FirstArtistListed     9929.092835  \n",
       "\n",
       "[69 rows x 4 columns]"
      ]
     },
     "execution_count": 83,
     "metadata": {},
     "output_type": "execute_result"
    }
   ],
   "source": [
    "results = {\"Class 0: Variance\":gnb.var_[0], \"Class 0: Mean\":gnb.theta_[0],\n",
    "           \"Class 1: Variance\":gnb.var_[1], \"Class 1: Mean\":gnb.theta_[1]}\n",
    "\n",
    "vm2 = pd.DataFrame(results, index=features)\n",
    "vm2"
   ]
  },
  {
   "cell_type": "code",
   "execution_count": 84,
   "id": "674f3a44",
   "metadata": {},
   "outputs": [],
   "source": [
    "# Fold1 = Test\n",
    "X_test, y_test = X_f1, y_f1 \n",
    "X_train = np.concatenate((X_f3, X_f2), axis = 0)\n",
    "y_train = np.concatenate((y_f3, y_f2), axis = 0)"
   ]
  },
  {
   "cell_type": "code",
   "execution_count": 85,
   "id": "af47fd80",
   "metadata": {},
   "outputs": [
    {
     "name": "stdout",
     "output_type": "stream",
     "text": [
      "401 ms ± 0 ns per loop (mean ± std. dev. of 1 run, 1 loop each)\n"
     ]
    }
   ],
   "source": [
    "%timeit -n1 -r1 gnb.fit(X_train, y_train)"
   ]
  },
  {
   "cell_type": "code",
   "execution_count": 86,
   "id": "621b4150",
   "metadata": {},
   "outputs": [],
   "source": [
    "y_pred = gnb.predict(X_test)"
   ]
  },
  {
   "cell_type": "code",
   "execution_count": 87,
   "id": "01adb536",
   "metadata": {},
   "outputs": [
    {
     "name": "stdout",
     "output_type": "stream",
     "text": [
      "              precision    recall  f1-score   support\n",
      "\n",
      "           0       0.37      0.99      0.53     15986\n",
      "           1       0.90      0.05      0.09     28927\n",
      "\n",
      "    accuracy                           0.38     44913\n",
      "   macro avg       0.63      0.52      0.31     44913\n",
      "weighted avg       0.71      0.38      0.25     44913\n",
      "\n"
     ]
    }
   ],
   "source": [
    "print(metrics.classification_report(y_test, y_pred))"
   ]
  },
  {
   "cell_type": "code",
   "execution_count": 88,
   "id": "fa257ff5",
   "metadata": {},
   "outputs": [
    {
     "data": {
      "text/html": [
       "<div>\n",
       "<style scoped>\n",
       "    .dataframe tbody tr th:only-of-type {\n",
       "        vertical-align: middle;\n",
       "    }\n",
       "\n",
       "    .dataframe tbody tr th {\n",
       "        vertical-align: top;\n",
       "    }\n",
       "\n",
       "    .dataframe thead th {\n",
       "        text-align: right;\n",
       "    }\n",
       "</style>\n",
       "<table border=\"1\" class=\"dataframe\">\n",
       "  <thead>\n",
       "    <tr style=\"text-align: right;\">\n",
       "      <th></th>\n",
       "      <th>Class 0: Variance</th>\n",
       "      <th>Class 0: Mean</th>\n",
       "      <th>Class 1: Variance</th>\n",
       "      <th>Class 1: Mean</th>\n",
       "    </tr>\n",
       "  </thead>\n",
       "  <tbody>\n",
       "    <tr>\n",
       "      <th>CreditLine</th>\n",
       "      <td>4.574981e+06</td>\n",
       "      <td>1997.717401</td>\n",
       "      <td>5.480168e+06</td>\n",
       "      <td>2368.401594</td>\n",
       "    </tr>\n",
       "    <tr>\n",
       "      <th>Classification</th>\n",
       "      <td>4.925480e+01</td>\n",
       "      <td>6.141005</td>\n",
       "      <td>4.320797e+01</td>\n",
       "      <td>6.166548</td>\n",
       "    </tr>\n",
       "    <tr>\n",
       "      <th>Department</th>\n",
       "      <td>2.659822e+01</td>\n",
       "      <td>1.610523</td>\n",
       "      <td>2.600102e+01</td>\n",
       "      <td>1.439099</td>\n",
       "    </tr>\n",
       "    <tr>\n",
       "      <th>DateAcquired</th>\n",
       "      <td>3.733676e+10</td>\n",
       "      <td>-51856.483945</td>\n",
       "      <td>1.730206e+10</td>\n",
       "      <td>-18127.850503</td>\n",
       "    </tr>\n",
       "    <tr>\n",
       "      <th>Circumference (cm)</th>\n",
       "      <td>2.479781e+01</td>\n",
       "      <td>0.001179</td>\n",
       "      <td>2.503408e+01</td>\n",
       "      <td>0.004691</td>\n",
       "    </tr>\n",
       "    <tr>\n",
       "      <th>...</th>\n",
       "      <td>...</td>\n",
       "      <td>...</td>\n",
       "      <td>...</td>\n",
       "      <td>...</td>\n",
       "    </tr>\n",
       "    <tr>\n",
       "      <th>TimeFinished</th>\n",
       "      <td>1.143108e+03</td>\n",
       "      <td>1950.753451</td>\n",
       "      <td>1.204125e+03</td>\n",
       "      <td>1958.959283</td>\n",
       "    </tr>\n",
       "    <tr>\n",
       "      <th>NumMales</th>\n",
       "      <td>2.513701e+01</td>\n",
       "      <td>0.880588</td>\n",
       "      <td>2.523176e+01</td>\n",
       "      <td>0.859844</td>\n",
       "    </tr>\n",
       "    <tr>\n",
       "      <th>NumFemales</th>\n",
       "      <td>2.485640e+01</td>\n",
       "      <td>0.102318</td>\n",
       "      <td>2.493176e+01</td>\n",
       "      <td>0.189242</td>\n",
       "    </tr>\n",
       "    <tr>\n",
       "      <th>NumArtists</th>\n",
       "      <td>2.540751e+01</td>\n",
       "      <td>1.094282</td>\n",
       "      <td>2.536176e+01</td>\n",
       "      <td>1.122341</td>\n",
       "    </tr>\n",
       "    <tr>\n",
       "      <th>FirstArtistListed</th>\n",
       "      <td>2.117274e+08</td>\n",
       "      <td>8288.260540</td>\n",
       "      <td>2.246027e+08</td>\n",
       "      <td>9877.612904</td>\n",
       "    </tr>\n",
       "  </tbody>\n",
       "</table>\n",
       "<p>69 rows × 4 columns</p>\n",
       "</div>"
      ],
      "text/plain": [
       "                    Class 0: Variance  Class 0: Mean  Class 1: Variance  \\\n",
       "CreditLine               4.574981e+06    1997.717401       5.480168e+06   \n",
       "Classification           4.925480e+01       6.141005       4.320797e+01   \n",
       "Department               2.659822e+01       1.610523       2.600102e+01   \n",
       "DateAcquired             3.733676e+10  -51856.483945       1.730206e+10   \n",
       "Circumference (cm)       2.479781e+01       0.001179       2.503408e+01   \n",
       "...                               ...            ...                ...   \n",
       "TimeFinished             1.143108e+03    1950.753451       1.204125e+03   \n",
       "NumMales                 2.513701e+01       0.880588       2.523176e+01   \n",
       "NumFemales               2.485640e+01       0.102318       2.493176e+01   \n",
       "NumArtists               2.540751e+01       1.094282       2.536176e+01   \n",
       "FirstArtistListed        2.117274e+08    8288.260540       2.246027e+08   \n",
       "\n",
       "                    Class 1: Mean  \n",
       "CreditLine            2368.401594  \n",
       "Classification           6.166548  \n",
       "Department               1.439099  \n",
       "DateAcquired        -18127.850503  \n",
       "Circumference (cm)       0.004691  \n",
       "...                           ...  \n",
       "TimeFinished          1958.959283  \n",
       "NumMales                 0.859844  \n",
       "NumFemales               0.189242  \n",
       "NumArtists               1.122341  \n",
       "FirstArtistListed     9877.612904  \n",
       "\n",
       "[69 rows x 4 columns]"
      ]
     },
     "execution_count": 88,
     "metadata": {},
     "output_type": "execute_result"
    }
   ],
   "source": [
    "results = {\"Class 0: Variance\":gnb.var_[0], \"Class 0: Mean\":gnb.theta_[0],\n",
    "           \"Class 1: Variance\":gnb.var_[1], \"Class 1: Mean\":gnb.theta_[1]}\n",
    "\n",
    "vm3 = pd.DataFrame(results, index=features)\n",
    "vm3"
   ]
  },
  {
   "cell_type": "markdown",
   "id": "fbda7ee9",
   "metadata": {},
   "source": [
    "We now look at average variance and means"
   ]
  },
  {
   "cell_type": "code",
   "execution_count": 89,
   "id": "6499bf9b",
   "metadata": {
    "scrolled": true
   },
   "outputs": [
    {
     "data": {
      "text/html": [
       "<div>\n",
       "<style scoped>\n",
       "    .dataframe tbody tr th:only-of-type {\n",
       "        vertical-align: middle;\n",
       "    }\n",
       "\n",
       "    .dataframe tbody tr th {\n",
       "        vertical-align: top;\n",
       "    }\n",
       "\n",
       "    .dataframe thead th {\n",
       "        text-align: right;\n",
       "    }\n",
       "</style>\n",
       "<table border=\"1\" class=\"dataframe\">\n",
       "  <thead>\n",
       "    <tr style=\"text-align: right;\">\n",
       "      <th></th>\n",
       "      <th>Class 0: Variance</th>\n",
       "      <th>Class 0: Mean</th>\n",
       "      <th>Class 1: Variance</th>\n",
       "      <th>Class 1: Mean</th>\n",
       "    </tr>\n",
       "  </thead>\n",
       "  <tbody>\n",
       "    <tr>\n",
       "      <th>CreditLine</th>\n",
       "      <td>4.547662e+06</td>\n",
       "      <td>1985.070070</td>\n",
       "      <td>5.509076e+06</td>\n",
       "      <td>2378.159070</td>\n",
       "    </tr>\n",
       "    <tr>\n",
       "      <th>Classification</th>\n",
       "      <td>4.932905e+01</td>\n",
       "      <td>6.128575</td>\n",
       "      <td>4.320900e+01</td>\n",
       "      <td>6.160077</td>\n",
       "    </tr>\n",
       "    <tr>\n",
       "      <th>Department</th>\n",
       "      <td>2.667215e+01</td>\n",
       "      <td>1.604546</td>\n",
       "      <td>2.608173e+01</td>\n",
       "      <td>1.438941</td>\n",
       "    </tr>\n",
       "    <tr>\n",
       "      <th>DateAcquired</th>\n",
       "      <td>3.754991e+10</td>\n",
       "      <td>-52279.835082</td>\n",
       "      <td>1.733145e+10</td>\n",
       "      <td>-18165.055993</td>\n",
       "    </tr>\n",
       "    <tr>\n",
       "      <th>Circumference (cm)</th>\n",
       "      <td>2.497195e+01</td>\n",
       "      <td>0.002282</td>\n",
       "      <td>2.507577e+01</td>\n",
       "      <td>0.003915</td>\n",
       "    </tr>\n",
       "    <tr>\n",
       "      <th>...</th>\n",
       "      <td>...</td>\n",
       "      <td>...</td>\n",
       "      <td>...</td>\n",
       "      <td>...</td>\n",
       "    </tr>\n",
       "    <tr>\n",
       "      <th>TimeFinished</th>\n",
       "      <td>1.139097e+03</td>\n",
       "      <td>1950.694174</td>\n",
       "      <td>1.205675e+03</td>\n",
       "      <td>1958.945228</td>\n",
       "    </tr>\n",
       "    <tr>\n",
       "      <th>NumMales</th>\n",
       "      <td>2.521698e+01</td>\n",
       "      <td>0.880566</td>\n",
       "      <td>2.534190e+01</td>\n",
       "      <td>0.861741</td>\n",
       "    </tr>\n",
       "    <tr>\n",
       "      <th>NumFemales</th>\n",
       "      <td>2.493472e+01</td>\n",
       "      <td>0.099834</td>\n",
       "      <td>2.501542e+01</td>\n",
       "      <td>0.189113</td>\n",
       "    </tr>\n",
       "    <tr>\n",
       "      <th>NumArtists</th>\n",
       "      <td>2.549774e+01</td>\n",
       "      <td>1.092244</td>\n",
       "      <td>2.547603e+01</td>\n",
       "      <td>1.124686</td>\n",
       "    </tr>\n",
       "    <tr>\n",
       "      <th>FirstArtistListed</th>\n",
       "      <td>2.067354e+08</td>\n",
       "      <td>8248.791861</td>\n",
       "      <td>2.247130e+08</td>\n",
       "      <td>9893.010472</td>\n",
       "    </tr>\n",
       "  </tbody>\n",
       "</table>\n",
       "<p>69 rows × 4 columns</p>\n",
       "</div>"
      ],
      "text/plain": [
       "                    Class 0: Variance  Class 0: Mean  Class 1: Variance  \\\n",
       "CreditLine               4.547662e+06    1985.070070       5.509076e+06   \n",
       "Classification           4.932905e+01       6.128575       4.320900e+01   \n",
       "Department               2.667215e+01       1.604546       2.608173e+01   \n",
       "DateAcquired             3.754991e+10  -52279.835082       1.733145e+10   \n",
       "Circumference (cm)       2.497195e+01       0.002282       2.507577e+01   \n",
       "...                               ...            ...                ...   \n",
       "TimeFinished             1.139097e+03    1950.694174       1.205675e+03   \n",
       "NumMales                 2.521698e+01       0.880566       2.534190e+01   \n",
       "NumFemales               2.493472e+01       0.099834       2.501542e+01   \n",
       "NumArtists               2.549774e+01       1.092244       2.547603e+01   \n",
       "FirstArtistListed        2.067354e+08    8248.791861       2.247130e+08   \n",
       "\n",
       "                    Class 1: Mean  \n",
       "CreditLine            2378.159070  \n",
       "Classification           6.160077  \n",
       "Department               1.438941  \n",
       "DateAcquired        -18165.055993  \n",
       "Circumference (cm)       0.003915  \n",
       "...                           ...  \n",
       "TimeFinished          1958.945228  \n",
       "NumMales                 0.861741  \n",
       "NumFemales               0.189113  \n",
       "NumArtists               1.124686  \n",
       "FirstArtistListed     9893.010472  \n",
       "\n",
       "[69 rows x 4 columns]"
      ]
     },
     "execution_count": 89,
     "metadata": {},
     "output_type": "execute_result"
    }
   ],
   "source": [
    "vm = (vm1+vm2+vm3)/3\n",
    "vm"
   ]
  },
  {
   "cell_type": "code",
   "execution_count": 90,
   "id": "f3cd04cf",
   "metadata": {},
   "outputs": [],
   "source": [
    "# vm.to_csv(\"avg_vm_additional.csv\", sep=',')"
   ]
  },
  {
   "cell_type": "markdown",
   "id": "5b8d87e7",
   "metadata": {},
   "source": [
    "### Logisitc Regression (Feature Set 2)"
   ]
  },
  {
   "cell_type": "code",
   "execution_count": 91,
   "id": "4aa794a2",
   "metadata": {},
   "outputs": [],
   "source": [
    "# Fold3 = Test\n",
    "X_test, y_test = X_f3, y_f3 \n",
    "X_train = np.concatenate((X_f1, X_f2), axis = 0)\n",
    "y_train = np.concatenate((y_f1, y_f2), axis = 0)"
   ]
  },
  {
   "cell_type": "code",
   "execution_count": 92,
   "id": "4f144aba",
   "metadata": {},
   "outputs": [
    {
     "name": "stdout",
     "output_type": "stream",
     "text": [
      "1.69 s ± 0 ns per loop (mean ± std. dev. of 1 run, 1 loop each)\n"
     ]
    }
   ],
   "source": [
    "%timeit -n1 -r1 classifier = lr.fit(X_train, y_train)"
   ]
  },
  {
   "cell_type": "code",
   "execution_count": 93,
   "id": "9d546054",
   "metadata": {},
   "outputs": [],
   "source": [
    "y_pred = lr.predict(X_test)"
   ]
  },
  {
   "cell_type": "code",
   "execution_count": 94,
   "id": "5aeb2c1b",
   "metadata": {},
   "outputs": [
    {
     "name": "stdout",
     "output_type": "stream",
     "text": [
      "              precision    recall  f1-score   support\n",
      "\n",
      "           0       0.54      0.08      0.14     16168\n",
      "           1       0.65      0.96      0.78     28745\n",
      "\n",
      "    accuracy                           0.64     44913\n",
      "   macro avg       0.60      0.52      0.46     44913\n",
      "weighted avg       0.61      0.64      0.55     44913\n",
      "\n"
     ]
    }
   ],
   "source": [
    "print(metrics.classification_report(y_test, y_pred))"
   ]
  },
  {
   "cell_type": "code",
   "execution_count": 95,
   "id": "d7e0b75a",
   "metadata": {
    "scrolled": true
   },
   "outputs": [
    {
     "data": {
      "text/html": [
       "<div>\n",
       "<style scoped>\n",
       "    .dataframe tbody tr th:only-of-type {\n",
       "        vertical-align: middle;\n",
       "    }\n",
       "\n",
       "    .dataframe tbody tr th {\n",
       "        vertical-align: top;\n",
       "    }\n",
       "\n",
       "    .dataframe thead th {\n",
       "        text-align: right;\n",
       "    }\n",
       "</style>\n",
       "<table border=\"1\" class=\"dataframe\">\n",
       "  <thead>\n",
       "    <tr style=\"text-align: right;\">\n",
       "      <th></th>\n",
       "      <th>Weights</th>\n",
       "    </tr>\n",
       "  </thead>\n",
       "  <tbody>\n",
       "    <tr>\n",
       "      <th>CreditLine</th>\n",
       "      <td>8.740665e-05</td>\n",
       "    </tr>\n",
       "    <tr>\n",
       "      <th>Classification</th>\n",
       "      <td>-8.413380e-05</td>\n",
       "    </tr>\n",
       "    <tr>\n",
       "      <th>Department</th>\n",
       "      <td>-1.452519e-04</td>\n",
       "    </tr>\n",
       "    <tr>\n",
       "      <th>DateAcquired</th>\n",
       "      <td>1.559072e-06</td>\n",
       "    </tr>\n",
       "    <tr>\n",
       "      <th>Circumference (cm)</th>\n",
       "      <td>5.568949e-07</td>\n",
       "    </tr>\n",
       "    <tr>\n",
       "      <th>...</th>\n",
       "      <td>...</td>\n",
       "    </tr>\n",
       "    <tr>\n",
       "      <th>TimeFinished</th>\n",
       "      <td>-1.004475e-04</td>\n",
       "    </tr>\n",
       "    <tr>\n",
       "      <th>NumMales</th>\n",
       "      <td>-1.377356e-05</td>\n",
       "    </tr>\n",
       "    <tr>\n",
       "      <th>NumFemales</th>\n",
       "      <td>5.121368e-05</td>\n",
       "    </tr>\n",
       "    <tr>\n",
       "      <th>NumArtists</th>\n",
       "      <td>9.830890e-06</td>\n",
       "    </tr>\n",
       "    <tr>\n",
       "      <th>FirstArtistListed</th>\n",
       "      <td>2.241747e-06</td>\n",
       "    </tr>\n",
       "  </tbody>\n",
       "</table>\n",
       "<p>69 rows × 1 columns</p>\n",
       "</div>"
      ],
      "text/plain": [
       "                         Weights\n",
       "CreditLine          8.740665e-05\n",
       "Classification     -8.413380e-05\n",
       "Department         -1.452519e-04\n",
       "DateAcquired        1.559072e-06\n",
       "Circumference (cm)  5.568949e-07\n",
       "...                          ...\n",
       "TimeFinished       -1.004475e-04\n",
       "NumMales           -1.377356e-05\n",
       "NumFemales          5.121368e-05\n",
       "NumArtists          9.830890e-06\n",
       "FirstArtistListed   2.241747e-06\n",
       "\n",
       "[69 rows x 1 columns]"
      ]
     },
     "execution_count": 95,
     "metadata": {},
     "output_type": "execute_result"
    }
   ],
   "source": [
    "w1 = pd.DataFrame(lr.coef_[0], columns=[\"Weights\"], index=features)\n",
    "w1"
   ]
  },
  {
   "cell_type": "code",
   "execution_count": 96,
   "id": "bac52b9f",
   "metadata": {},
   "outputs": [
    {
     "data": {
      "text/plain": [
       "array([-1.71197423e-06])"
      ]
     },
     "execution_count": 96,
     "metadata": {},
     "output_type": "execute_result"
    }
   ],
   "source": [
    "lr.intercept_"
   ]
  },
  {
   "cell_type": "code",
   "execution_count": 97,
   "id": "57f43ba7",
   "metadata": {},
   "outputs": [],
   "source": [
    "# class_names = classifier.classes_\n",
    "\n",
    "# np.set_printoptions(precision=2)\n",
    "\n",
    "# # Plot non-normalized confusion matrix\n",
    "# titles_options = [\n",
    "#     (\"F1: Confusion matrix, without normalization\", None),\n",
    "#     (\"F1: Normalized confusion matrix\", \"true\"),\n",
    "# ]\n",
    "# for title, normalize in titles_options:\n",
    "#     disp = ConfusionMatrixDisplay.from_estimator(\n",
    "#         classifier,\n",
    "#         X_test,\n",
    "#         y_test,\n",
    "#         display_labels=class_names[:8],\n",
    "#         cmap=plt.cm.Blues,\n",
    "#         normalize=normalize,\n",
    "#     )\n",
    "#     disp.ax_.set_title(title)\n",
    "#     disp.ax_.set_figsize=(10, 10)\n",
    "#     print(title)\n",
    "#     print(disp.confusion_matrix)\n",
    "\n",
    "# plt.show()"
   ]
  },
  {
   "cell_type": "code",
   "execution_count": 98,
   "id": "f0438646",
   "metadata": {},
   "outputs": [],
   "source": [
    "# Fold2 = Test\n",
    "X_test, y_test = X_f2, y_f2 \n",
    "X_train = np.concatenate((X_f1, X_f3), axis = 0)\n",
    "y_train = np.concatenate((y_f1, y_f3), axis = 0)"
   ]
  },
  {
   "cell_type": "code",
   "execution_count": 99,
   "id": "c011737a",
   "metadata": {},
   "outputs": [
    {
     "name": "stdout",
     "output_type": "stream",
     "text": [
      "1.7 s ± 0 ns per loop (mean ± std. dev. of 1 run, 1 loop each)\n"
     ]
    }
   ],
   "source": [
    "%timeit -n1 -r1 classifier = lr.fit(X_train, y_train)"
   ]
  },
  {
   "cell_type": "code",
   "execution_count": 100,
   "id": "cb9c47ef",
   "metadata": {},
   "outputs": [],
   "source": [
    "y_pred = lr.predict(X_test)"
   ]
  },
  {
   "cell_type": "code",
   "execution_count": 101,
   "id": "77c9ff1e",
   "metadata": {},
   "outputs": [
    {
     "name": "stdout",
     "output_type": "stream",
     "text": [
      "              precision    recall  f1-score   support\n",
      "\n",
      "           0       0.54      0.08      0.14     16065\n",
      "           1       0.65      0.96      0.78     28848\n",
      "\n",
      "    accuracy                           0.65     44913\n",
      "   macro avg       0.59      0.52      0.46     44913\n",
      "weighted avg       0.61      0.65      0.55     44913\n",
      "\n"
     ]
    }
   ],
   "source": [
    "print(metrics.classification_report(y_test, y_pred))"
   ]
  },
  {
   "cell_type": "code",
   "execution_count": 102,
   "id": "08061c8b",
   "metadata": {},
   "outputs": [
    {
     "data": {
      "text/html": [
       "<div>\n",
       "<style scoped>\n",
       "    .dataframe tbody tr th:only-of-type {\n",
       "        vertical-align: middle;\n",
       "    }\n",
       "\n",
       "    .dataframe tbody tr th {\n",
       "        vertical-align: top;\n",
       "    }\n",
       "\n",
       "    .dataframe thead th {\n",
       "        text-align: right;\n",
       "    }\n",
       "</style>\n",
       "<table border=\"1\" class=\"dataframe\">\n",
       "  <thead>\n",
       "    <tr style=\"text-align: right;\">\n",
       "      <th></th>\n",
       "      <th>Weights</th>\n",
       "    </tr>\n",
       "  </thead>\n",
       "  <tbody>\n",
       "    <tr>\n",
       "      <th>CreditLine</th>\n",
       "      <td>8.823695e-05</td>\n",
       "    </tr>\n",
       "    <tr>\n",
       "      <th>Classification</th>\n",
       "      <td>-8.512570e-05</td>\n",
       "    </tr>\n",
       "    <tr>\n",
       "      <th>Department</th>\n",
       "      <td>-1.395393e-04</td>\n",
       "    </tr>\n",
       "    <tr>\n",
       "      <th>DateAcquired</th>\n",
       "      <td>1.563881e-06</td>\n",
       "    </tr>\n",
       "    <tr>\n",
       "      <th>Circumference (cm)</th>\n",
       "      <td>7.814084e-08</td>\n",
       "    </tr>\n",
       "    <tr>\n",
       "      <th>...</th>\n",
       "      <td>...</td>\n",
       "    </tr>\n",
       "    <tr>\n",
       "      <th>TimeFinished</th>\n",
       "      <td>-9.535415e-05</td>\n",
       "    </tr>\n",
       "    <tr>\n",
       "      <th>NumMales</th>\n",
       "      <td>-1.427362e-05</td>\n",
       "    </tr>\n",
       "    <tr>\n",
       "      <th>NumFemales</th>\n",
       "      <td>5.140628e-05</td>\n",
       "    </tr>\n",
       "    <tr>\n",
       "      <th>NumArtists</th>\n",
       "      <td>9.704267e-06</td>\n",
       "    </tr>\n",
       "    <tr>\n",
       "      <th>FirstArtistListed</th>\n",
       "      <td>2.143787e-06</td>\n",
       "    </tr>\n",
       "  </tbody>\n",
       "</table>\n",
       "<p>69 rows × 1 columns</p>\n",
       "</div>"
      ],
      "text/plain": [
       "                         Weights\n",
       "CreditLine          8.823695e-05\n",
       "Classification     -8.512570e-05\n",
       "Department         -1.395393e-04\n",
       "DateAcquired        1.563881e-06\n",
       "Circumference (cm)  7.814084e-08\n",
       "...                          ...\n",
       "TimeFinished       -9.535415e-05\n",
       "NumMales           -1.427362e-05\n",
       "NumFemales          5.140628e-05\n",
       "NumArtists          9.704267e-06\n",
       "FirstArtistListed   2.143787e-06\n",
       "\n",
       "[69 rows x 1 columns]"
      ]
     },
     "execution_count": 102,
     "metadata": {},
     "output_type": "execute_result"
    }
   ],
   "source": [
    "w2 = pd.DataFrame(lr.coef_[0], columns=[\"Weights\"], index=features)\n",
    "w2"
   ]
  },
  {
   "cell_type": "code",
   "execution_count": 103,
   "id": "767e0359",
   "metadata": {},
   "outputs": [],
   "source": [
    "# class_names = classifier.classes_\n",
    "\n",
    "# np.set_printoptions(precision=2)\n",
    "\n",
    "# # Plot non-normalized confusion matrix\n",
    "# titles_options = [\n",
    "#     (\"F1: Confusion matrix, without normalization\", None),\n",
    "#     (\"F1: Normalized confusion matrix\", \"true\"),\n",
    "# ]\n",
    "# for title, normalize in titles_options:\n",
    "#     disp = ConfusionMatrixDisplay.from_estimator(\n",
    "#         classifier,\n",
    "#         X_test,\n",
    "#         y_test,\n",
    "#         display_labels=class_names[:8],\n",
    "#         cmap=plt.cm.Blues,\n",
    "#         normalize=normalize,\n",
    "#     )\n",
    "#     disp.ax_.set_title(title)\n",
    "#     disp.ax_.set_figsize=(10, 10)\n",
    "#     print(title)\n",
    "#     print(disp.confusion_matrix)\n",
    "\n",
    "# plt.show()"
   ]
  },
  {
   "cell_type": "code",
   "execution_count": 104,
   "id": "361d0210",
   "metadata": {},
   "outputs": [],
   "source": [
    "# Fold1 = Test\n",
    "X_test, y_test = X_f1, y_f1 \n",
    "X_train = np.concatenate((X_f3, X_f2), axis = 0)\n",
    "y_train = np.concatenate((y_f3, y_f2), axis = 0)"
   ]
  },
  {
   "cell_type": "code",
   "execution_count": 105,
   "id": "8fbc6b4a",
   "metadata": {},
   "outputs": [
    {
     "name": "stdout",
     "output_type": "stream",
     "text": [
      "2.63 s ± 0 ns per loop (mean ± std. dev. of 1 run, 1 loop each)\n"
     ]
    }
   ],
   "source": [
    "%timeit -n1 -r1 classifier = lr.fit(X_train, y_train)"
   ]
  },
  {
   "cell_type": "code",
   "execution_count": 106,
   "id": "5cdc5ffc",
   "metadata": {
    "scrolled": true
   },
   "outputs": [],
   "source": [
    "y_pred = lr.predict(X_test)"
   ]
  },
  {
   "cell_type": "code",
   "execution_count": 107,
   "id": "beac6896",
   "metadata": {},
   "outputs": [
    {
     "name": "stdout",
     "output_type": "stream",
     "text": [
      "              precision    recall  f1-score   support\n",
      "\n",
      "           0       0.56      0.08      0.15     15986\n",
      "           1       0.66      0.96      0.78     28927\n",
      "\n",
      "    accuracy                           0.65     44913\n",
      "   macro avg       0.61      0.52      0.46     44913\n",
      "weighted avg       0.62      0.65      0.55     44913\n",
      "\n"
     ]
    }
   ],
   "source": [
    "print(metrics.classification_report(y_test, y_pred))"
   ]
  },
  {
   "cell_type": "code",
   "execution_count": 108,
   "id": "00d3cd0c",
   "metadata": {},
   "outputs": [
    {
     "data": {
      "text/html": [
       "<div>\n",
       "<style scoped>\n",
       "    .dataframe tbody tr th:only-of-type {\n",
       "        vertical-align: middle;\n",
       "    }\n",
       "\n",
       "    .dataframe tbody tr th {\n",
       "        vertical-align: top;\n",
       "    }\n",
       "\n",
       "    .dataframe thead th {\n",
       "        text-align: right;\n",
       "    }\n",
       "</style>\n",
       "<table border=\"1\" class=\"dataframe\">\n",
       "  <thead>\n",
       "    <tr style=\"text-align: right;\">\n",
       "      <th></th>\n",
       "      <th>Weights</th>\n",
       "    </tr>\n",
       "  </thead>\n",
       "  <tbody>\n",
       "    <tr>\n",
       "      <th>CreditLine</th>\n",
       "      <td>0.000081</td>\n",
       "    </tr>\n",
       "    <tr>\n",
       "      <th>Classification</th>\n",
       "      <td>-0.000089</td>\n",
       "    </tr>\n",
       "    <tr>\n",
       "      <th>Department</th>\n",
       "      <td>-0.000149</td>\n",
       "    </tr>\n",
       "    <tr>\n",
       "      <th>DateAcquired</th>\n",
       "      <td>0.000002</td>\n",
       "    </tr>\n",
       "    <tr>\n",
       "      <th>Circumference (cm)</th>\n",
       "      <td>0.000002</td>\n",
       "    </tr>\n",
       "    <tr>\n",
       "      <th>...</th>\n",
       "      <td>...</td>\n",
       "    </tr>\n",
       "    <tr>\n",
       "      <th>TimeFinished</th>\n",
       "      <td>-0.000103</td>\n",
       "    </tr>\n",
       "    <tr>\n",
       "      <th>NumMales</th>\n",
       "      <td>-0.000016</td>\n",
       "    </tr>\n",
       "    <tr>\n",
       "      <th>NumFemales</th>\n",
       "      <td>0.000051</td>\n",
       "    </tr>\n",
       "    <tr>\n",
       "      <th>NumArtists</th>\n",
       "      <td>0.000007</td>\n",
       "    </tr>\n",
       "    <tr>\n",
       "      <th>FirstArtistListed</th>\n",
       "      <td>0.000002</td>\n",
       "    </tr>\n",
       "  </tbody>\n",
       "</table>\n",
       "<p>69 rows × 1 columns</p>\n",
       "</div>"
      ],
      "text/plain": [
       "                     Weights\n",
       "CreditLine          0.000081\n",
       "Classification     -0.000089\n",
       "Department         -0.000149\n",
       "DateAcquired        0.000002\n",
       "Circumference (cm)  0.000002\n",
       "...                      ...\n",
       "TimeFinished       -0.000103\n",
       "NumMales           -0.000016\n",
       "NumFemales          0.000051\n",
       "NumArtists          0.000007\n",
       "FirstArtistListed   0.000002\n",
       "\n",
       "[69 rows x 1 columns]"
      ]
     },
     "execution_count": 108,
     "metadata": {},
     "output_type": "execute_result"
    }
   ],
   "source": [
    "w3 = pd.DataFrame(lr.coef_[0], columns=[\"Weights\"], index=features)\n",
    "w3"
   ]
  },
  {
   "cell_type": "code",
   "execution_count": 109,
   "id": "0ea51ebc",
   "metadata": {},
   "outputs": [],
   "source": [
    "# class_names = classifier.classes_\n",
    "\n",
    "# np.set_printoptions(precision=2)\n",
    "\n",
    "# # Plot non-normalized confusion matrix\n",
    "# titles_options = [\n",
    "#     (\"F1: Confusion matrix, without normalization\", None),\n",
    "#     (\"F1: Normalized confusion matrix\", \"true\"),\n",
    "# ]\n",
    "# for title, normalize in titles_options:\n",
    "#     disp = ConfusionMatrixDisplay.from_estimator(\n",
    "#         classifier,\n",
    "#         X_test,\n",
    "#         y_test,\n",
    "#         display_labels=class_names[:8],\n",
    "#         cmap=plt.cm.Blues,\n",
    "#         normalize=normalize,\n",
    "#     )\n",
    "#     disp.ax_.set_title(title)\n",
    "#     disp.ax_.set_figsize=(10, 10)\n",
    "#     print(title)\n",
    "#     print(disp.confusion_matrix)\n",
    "\n",
    "# plt.show()"
   ]
  },
  {
   "cell_type": "markdown",
   "id": "7c88fe86",
   "metadata": {},
   "source": [
    "We calculate the average weights"
   ]
  },
  {
   "cell_type": "code",
   "execution_count": 110,
   "id": "8c5434b6",
   "metadata": {},
   "outputs": [
    {
     "data": {
      "text/html": [
       "<div>\n",
       "<style scoped>\n",
       "    .dataframe tbody tr th:only-of-type {\n",
       "        vertical-align: middle;\n",
       "    }\n",
       "\n",
       "    .dataframe tbody tr th {\n",
       "        vertical-align: top;\n",
       "    }\n",
       "\n",
       "    .dataframe thead th {\n",
       "        text-align: right;\n",
       "    }\n",
       "</style>\n",
       "<table border=\"1\" class=\"dataframe\">\n",
       "  <thead>\n",
       "    <tr style=\"text-align: right;\">\n",
       "      <th></th>\n",
       "      <th>Weights</th>\n",
       "    </tr>\n",
       "  </thead>\n",
       "  <tbody>\n",
       "    <tr>\n",
       "      <th>CreditLine</th>\n",
       "      <td>8.555990e-05</td>\n",
       "    </tr>\n",
       "    <tr>\n",
       "      <th>Classification</th>\n",
       "      <td>-8.602097e-05</td>\n",
       "    </tr>\n",
       "    <tr>\n",
       "      <th>Department</th>\n",
       "      <td>-1.444568e-04</td>\n",
       "    </tr>\n",
       "    <tr>\n",
       "      <th>DateAcquired</th>\n",
       "      <td>1.554406e-06</td>\n",
       "    </tr>\n",
       "    <tr>\n",
       "      <th>Circumference (cm)</th>\n",
       "      <td>9.515379e-07</td>\n",
       "    </tr>\n",
       "    <tr>\n",
       "      <th>...</th>\n",
       "      <td>...</td>\n",
       "    </tr>\n",
       "    <tr>\n",
       "      <th>TimeFinished</th>\n",
       "      <td>-9.969518e-05</td>\n",
       "    </tr>\n",
       "    <tr>\n",
       "      <th>NumMales</th>\n",
       "      <td>-1.478274e-05</td>\n",
       "    </tr>\n",
       "    <tr>\n",
       "      <th>NumFemales</th>\n",
       "      <td>5.106589e-05</td>\n",
       "    </tr>\n",
       "    <tr>\n",
       "      <th>NumArtists</th>\n",
       "      <td>8.702412e-06</td>\n",
       "    </tr>\n",
       "    <tr>\n",
       "      <th>FirstArtistListed</th>\n",
       "      <td>2.193701e-06</td>\n",
       "    </tr>\n",
       "  </tbody>\n",
       "</table>\n",
       "<p>69 rows × 1 columns</p>\n",
       "</div>"
      ],
      "text/plain": [
       "                         Weights\n",
       "CreditLine          8.555990e-05\n",
       "Classification     -8.602097e-05\n",
       "Department         -1.444568e-04\n",
       "DateAcquired        1.554406e-06\n",
       "Circumference (cm)  9.515379e-07\n",
       "...                          ...\n",
       "TimeFinished       -9.969518e-05\n",
       "NumMales           -1.478274e-05\n",
       "NumFemales          5.106589e-05\n",
       "NumArtists          8.702412e-06\n",
       "FirstArtistListed   2.193701e-06\n",
       "\n",
       "[69 rows x 1 columns]"
      ]
     },
     "execution_count": 110,
     "metadata": {},
     "output_type": "execute_result"
    }
   ],
   "source": [
    "w = (w1+w2+w3)/3\n",
    "w"
   ]
  },
  {
   "cell_type": "code",
   "execution_count": 111,
   "id": "a13075b1",
   "metadata": {},
   "outputs": [],
   "source": [
    "# w.to_csv(\"avg_w_additional.csv\", sep=',')"
   ]
  },
  {
   "cell_type": "markdown",
   "id": "aa4823db",
   "metadata": {},
   "source": [
    "### Observations (Part 2)\n",
    "\n",
    "Insights on relations.\n",
    " - We have negative weights!!\n",
    " - There are a couple of comparable attributes that reverse relation than they did before the introduction of the new attributes\n",
    "\n",
    "General Notes.\n",
    "\n",
    " - Out of the dimensionality attributes, height & width have the most effect\n",
    "   - this stays the same even when accounting for medium types\n",
    " - The classification of the artwork had 1.6x less of an effect than the Department \n",
    "    - This is widely different than when we did not account for mediums\n",
    "    - On the question of medium as subfields, we see that 8 fields have somewhat comparable weights to classification: portfolio, black, lithograph, drypoint, pencil, illustrated book, paper, color.\n",
    "      - comparable refers to them having absolute weights between 0.0001 and 0.0004\n",
    "  - The number of female artists has more of an effect than the number of males\n",
    "     - this is a reverse from before medium types were included. \n",
    "  - Interesting insight, the variance between all medium types are similar\n",
    "  - Interesting insight, the mean btwn some the mediums of most weight are large mostly but some are small\n",
    "      - Not Catalogued:\n",
    "        - portfolio: 0.026482579861738\n",
    "        - black: 0.112505069970958\n",
    "        - lithograph: 0.138698558962618\n",
    "      - Catalogued:\n",
    "        - portfolio: 0.0817274676381294\n",
    "        - black: 0.0114768301798104\n",
    "        - lithograph: 0.182224500679839\n",
    "\n"
   ]
  }
 ],
 "metadata": {
  "kernelspec": {
   "display_name": "Python 3 (ipykernel)",
   "language": "python",
   "name": "python3"
  },
  "language_info": {
   "codemirror_mode": {
    "name": "ipython",
    "version": 3
   },
   "file_extension": ".py",
   "mimetype": "text/x-python",
   "name": "python",
   "nbconvert_exporter": "python",
   "pygments_lexer": "ipython3",
   "version": "3.8.10"
  }
 },
 "nbformat": 4,
 "nbformat_minor": 5
}
